{
  "nbformat": 4,
  "nbformat_minor": 0,
  "metadata": {
    "colab": {
      "name": "PY0101EN-1-1-Types.ipynb",
      "provenance": [],
      "toc_visible": true
    },
    "language_info": {
      "codemirror_mode": {
        "name": "ipython",
        "version": 3
      },
      "file_extension": ".py",
      "mimetype": "text/x-python",
      "name": "python",
      "nbconvert_exporter": "python",
      "pygments_lexer": "ipython3",
      "version": "3.6.6"
    },
    "kernelspec": {
      "display_name": "Python 3",
      "language": "python",
      "name": "python3"
    }
  },
  "cells": [
    {
      "cell_type": "markdown",
      "metadata": {
        "id": "qVfou9aca4RU"
      },
      "source": [
        "<img src = \"https://i.imgur.com/AKXoLze.jpg\"  align = \"center\">"
      ]
    },
    {
      "cell_type": "markdown",
      "metadata": {
        "id": "fZwnCCONa4RV"
      },
      "source": [
        "#<h1>Python - Writing Your First Python Code!</h1>"
      ]
    },
    {
      "cell_type": "markdown",
      "metadata": {
        "id": "KkWeDYrGa4RW"
      },
      "source": [
        "<p><strong>Welcome!</strong> This notebook will teach you the basics of the Python programming language. Although the information presented here is quite basic, it is an important foundation that will help you read and write Python code. By the end of this notebook, you'll know the basics of Python, including how to write basic commands, understand some basic types, and how to perform simple operations on them.</p> "
      ]
    },
    {
      "cell_type": "markdown",
      "metadata": {
        "id": "fpjxl35Oa4RX"
      },
      "source": [
        "#<h2>Table of Contents</h2>\n",
        "<div class=\"alert alert-block alert-info\" style=\"margin-top: 20px\">\n",
        "    <ul>\n",
        "        <li>\n",
        "            <a href=\"#hello\">Say \"Hello\" to the world in Python</a>\n",
        "            <ul>\n",
        "                <li><a href=\"version\">What version of Python are we using?</a></li>\n",
        "                <li><a href=\"comments\">Writing comments in Python</a></li>\n",
        "                <li><a href=\"errors\">Errors in Python</a></li>\n",
        "                <li><a href=\"python_error\">Does Python know about your error before it runs your code?</a></li>\n",
        "                <li><a href=\"exercise\">Exercise: Your First Program</a></li>\n",
        "            </ul>\n",
        "        </li>\n",
        "        <li>\n",
        "            <a href=\"#types_objects\">Types of objects in Python</a>\n",
        "            <ul>\n",
        "                <li><a href=\"int\">Integers</a></li>\n",
        "                <li><a href=\"float\">Floats</a></li>\n",
        "                <li><a href=\"convert\">Converting from one object type to a different object type</a></li>\n",
        "                <li><a href=\"bool\">Boolean data type</a></li>\n",
        "                <li><a href=\"exer_type\">Exercise: Types</a></li>\n",
        "            </ul>\n",
        "        </li>\n",
        "        <li>\n",
        "            <a href=\"#expressions\">Expressions and Variables</a>\n",
        "            <ul>\n",
        "                <li><a href=\"exp\">Expressions</a></li>\n",
        "                <li><a href=\"exer_exp\">Exercise: Expressions</a></li>\n",
        "                <li><a href=\"var\">Variables</a></li>\n",
        "                <li><a href=\"exer_exp_var\">Exercise: Expression and Variables in Python</a></li>\n",
        "            </ul>\n",
        "        </li>\n",
        "    </ul>\n",
        "    <p>\n",
        "        Estimated time needed: <strong>25 min</strong>\n",
        "    </p>\n",
        "</div>\n",
        "\n",
        "<hr>"
      ]
    },
    {
      "cell_type": "markdown",
      "metadata": {
        "id": "cDv65PD8a4Ra"
      },
      "source": [
        "#<h2 id=\"hello\">Say \"Hello\" to the world in Python</h2>"
      ]
    },
    {
      "cell_type": "markdown",
      "metadata": {
        "id": "rmgZ9cwla4Rb"
      },
      "source": [
        "When learning a new programming language, it is customary to start with an \"hello world\" example. As simple as it is, this one line of code will ensure that we know how to print a string in output and how to execute code within cells in a notebook."
      ]
    },
    {
      "cell_type": "markdown",
      "metadata": {
        "id": "LM6-SSIMa4Rc"
      },
      "source": [
        "<hr/>\n",
        "<div class=\"alert alert-success alertsuccess\" style=\"margin-top: 20px\">\n",
        "[Tip]: To execute the Python code in the code cell below, click on the cell to select it and press <kbd>Shift</kbd> + <kbd>Enter</kbd>.\n",
        "</div>\n",
        "<hr/>"
      ]
    },
    {
      "cell_type": "code",
      "metadata": {
        "id": "SdaDe0qYa4Rd",
        "colab": {
          "base_uri": "https://localhost:8080/"
        },
        "outputId": "f794c444-9d2b-48b3-c80c-7f4fa3725dbc"
      },
      "source": [
        "# Try your first Python output\n",
        "\n",
        "print('Hello, Python!')"
      ],
      "execution_count": 4,
      "outputs": [
        {
          "output_type": "stream",
          "text": [
            "Hello, Python!\n"
          ],
          "name": "stdout"
        }
      ]
    },
    {
      "cell_type": "markdown",
      "metadata": {
        "id": "0lM4-cfUa4Ri"
      },
      "source": [
        "After executing the cell above, you should see that Python prints <code>Hello, Python!</code>. Congratulations on running your first Python code!"
      ]
    },
    {
      "cell_type": "markdown",
      "metadata": {
        "id": "cFvzKwNea4Rj"
      },
      "source": [
        "<hr/>\n",
        "<div class=\"alert alert-success alertsuccess\" style=\"margin-top: 20px\">\n",
        "    [Tip:] <code>print()</code> is a function. You passed the string <code>'Hello, Python!'</code> as an argument to instruct Python on what to print.\n",
        "</div>\n",
        "<hr/>"
      ]
    },
    {
      "cell_type": "markdown",
      "metadata": {
        "id": "dtPRm_R9a4Rk"
      },
      "source": [
        "## <h3 id=\"version\">What version of Python are we using?</h3>"
      ]
    },
    {
      "cell_type": "markdown",
      "metadata": {
        "id": "xGHWVMmVa4Rl"
      },
      "source": [
        "<p>\n",
        "    There are two popular versions of the Python programming language in use today: Python 2 and Python 3. The Python community has decided to move on from Python 2 to Python 3, and many popular libraries have announced that they will no longer support Python 2.\n",
        "</p>\n",
        "<p>\n",
        "    Since Python 3 is the future, in this course we will be using it exclusively. How do we know that our notebook is executed by a Python 3 runtime? We can look in the top-right hand corner of this notebook and see \"Python 3\".\n",
        "</p>\n",
        "<p>\n",
        "    We can also ask directly Python and obtain a detailed answer. Try executing the following code:\n",
        "</p>"
      ]
    },
    {
      "cell_type": "code",
      "metadata": {
        "id": "wTbqkPEja4Rl",
        "colab": {
          "base_uri": "https://localhost:8080/"
        },
        "outputId": "d1f4391c-34c5-402a-f440-578bc17125fa"
      },
      "source": [
        "# Check the Python Version\n",
        "\n",
        "import sys\n",
        "print(sys.version)"
      ],
      "execution_count": 5,
      "outputs": [
        {
          "output_type": "stream",
          "text": [
            "3.7.11 (default, Jul  3 2021, 18:01:19) \n",
            "[GCC 7.5.0]\n"
          ],
          "name": "stdout"
        }
      ]
    },
    {
      "cell_type": "markdown",
      "metadata": {
        "id": "cU9_GXE-a4Rp"
      },
      "source": [
        "<hr/>\n",
        "<div class=\"alert alert-success alertsuccess\" style=\"margin-top: 20px\">\n",
        "    [Tip:] <code>sys</code> is a built-in module that contains many system-specific parameters and functions, including the Python version in use. Before using it, we must explictly <code>import</code> it.\n",
        "</div>\n",
        "<hr/>"
      ]
    },
    {
      "cell_type": "markdown",
      "metadata": {
        "id": "jmKxbLUva4Rp"
      },
      "source": [
        "## <h3 id=\"comments\">Writing comments in Python</h3>"
      ]
    },
    {
      "cell_type": "markdown",
      "metadata": {
        "id": "-Hhtc76Ha4Rq"
      },
      "source": [
        "<p>\n",
        "    In addition to writing code, note that it's always a good idea to add comments to your code. It will help others understand what you were trying to accomplish (the reason why you wrote a given snippet of code). Not only does this help <strong>other people</strong> understand your code, it can also serve as a reminder <strong>to you</strong> when you come back to it weeks or months later.</p>\n",
        "\n",
        "<p>\n",
        "    To write comments in Python, use the number symbol <code>#</code> before writing your comment. When you run your code, Python will ignore everything past the <code>#</code> on a given line.\n",
        "</p>"
      ]
    },
    {
      "cell_type": "code",
      "metadata": {
        "id": "Z0_yzsy2a4Rr",
        "colab": {
          "base_uri": "https://localhost:8080/"
        },
        "outputId": "f258f9aa-d635-426e-a20c-91c8eee5e515"
      },
      "source": [
        "# Practice on writing comments\n",
        "\n",
        "print('Hello, Python!') # This line prints a string\n",
        "# print('Hi')"
      ],
      "execution_count": 6,
      "outputs": [
        {
          "output_type": "stream",
          "text": [
            "Hello, Python!\n"
          ],
          "name": "stdout"
        }
      ]
    },
    {
      "cell_type": "markdown",
      "metadata": {
        "id": "2JaAEuwLa4Ru"
      },
      "source": [
        "<p>\n",
        "    After executing the cell above, you should notice that <code>This line prints a string</code> did not appear in the output, because it was a comment (and thus ignored by Python).\n",
        "</p>\n",
        "<p>\n",
        "    The second line was also not executed because <code>print('Hi')</code> was preceded by the number sign (<code>#</code>) as well! Since this isn't an explanatory comment from the programmer, but an actual line of code, we might say that the programmer <em>commented out</em> that second line of code.\n",
        "</p>"
      ]
    },
    {
      "cell_type": "markdown",
      "metadata": {
        "id": "z_Nngb8ca4Rv"
      },
      "source": [
        "## <h3 id=\"errors\">Errors in Python</h3>"
      ]
    },
    {
      "cell_type": "markdown",
      "metadata": {
        "id": "1Z0_5_JWa4Rw"
      },
      "source": [
        "<p>Everyone makes mistakes. For many types of mistakes, Python will tell you that you have made a mistake by giving you an error message. It is important to read error messages carefully to really understand where you made a mistake and how you may go about correcting it.</p>\n",
        "<p>For example, if you spell <code>print</code> as <code>frint</code>, Python will display an error message. Give it a try:</p>"
      ]
    },
    {
      "cell_type": "code",
      "metadata": {
        "id": "F-af-nK6a4Rx",
        "colab": {
          "base_uri": "https://localhost:8080/",
          "height": 198
        },
        "outputId": "d2675e83-b4ab-4a10-9ed5-022b4424fece"
      },
      "source": [
        "# Print string as error message\n",
        "\n",
        "frint(\"Hello, Python!\")"
      ],
      "execution_count": 7,
      "outputs": [
        {
          "output_type": "error",
          "ename": "NameError",
          "evalue": "ignored",
          "traceback": [
            "\u001b[0;31m---------------------------------------------------------------------------\u001b[0m",
            "\u001b[0;31mNameError\u001b[0m                                 Traceback (most recent call last)",
            "\u001b[0;32m<ipython-input-7-313a1769a8a5>\u001b[0m in \u001b[0;36m<module>\u001b[0;34m()\u001b[0m\n\u001b[1;32m      1\u001b[0m \u001b[0;31m# Print string as error message\u001b[0m\u001b[0;34m\u001b[0m\u001b[0;34m\u001b[0m\u001b[0;34m\u001b[0m\u001b[0m\n\u001b[1;32m      2\u001b[0m \u001b[0;34m\u001b[0m\u001b[0m\n\u001b[0;32m----> 3\u001b[0;31m \u001b[0mfrint\u001b[0m\u001b[0;34m(\u001b[0m\u001b[0;34m\"Hello, Python!\"\u001b[0m\u001b[0;34m)\u001b[0m\u001b[0;34m\u001b[0m\u001b[0;34m\u001b[0m\u001b[0m\n\u001b[0m",
            "\u001b[0;31mNameError\u001b[0m: name 'frint' is not defined"
          ]
        }
      ]
    },
    {
      "cell_type": "markdown",
      "metadata": {
        "id": "rVjaNRbKa4R2"
      },
      "source": [
        "<p>The error message tells you: \n",
        "<ol>\n",
        "    <li>where the error occurred (more useful in large notebook cells or scripts), and</li> \n",
        "    <li>what kind of error it was (NameError)</li> \n",
        "</ol>\n",
        "<p>Here, Python attempted to run the function <code>frint</code>, but could not determine what <code>frint</code> is since it's not a built-in function and it has not been previously defined by us either.</p>"
      ]
    },
    {
      "cell_type": "markdown",
      "metadata": {
        "id": "caw8W3LUa4R3"
      },
      "source": [
        "<p>\n",
        "    You'll notice that if we make a different type of mistake, by forgetting to close the string, we'll obtain a different error (i.e., a <code>SyntaxError</code>). Try it below:\n",
        "</p>"
      ]
    },
    {
      "cell_type": "code",
      "metadata": {
        "id": "ulaz0yHaa4R4",
        "colab": {
          "base_uri": "https://localhost:8080/",
          "height": 130
        },
        "outputId": "0268c996-9ee4-4d9f-a1d5-6bc29d0b5866"
      },
      "source": [
        "# Try to see build in error message\n",
        "\n",
        "print(\"Hello, Python!)"
      ],
      "execution_count": 9,
      "outputs": [
        {
          "output_type": "error",
          "ename": "SyntaxError",
          "evalue": "ignored",
          "traceback": [
            "\u001b[0;36m  File \u001b[0;32m\"<ipython-input-9-63a21a726720>\"\u001b[0;36m, line \u001b[0;32m3\u001b[0m\n\u001b[0;31m    print(\"Hello, Python!)\u001b[0m\n\u001b[0m                          ^\u001b[0m\n\u001b[0;31mSyntaxError\u001b[0m\u001b[0;31m:\u001b[0m EOL while scanning string literal\n"
          ]
        }
      ]
    },
    {
      "cell_type": "markdown",
      "metadata": {
        "id": "D1yQphbqa4R9"
      },
      "source": [
        "## <h3 id=\"python_error\">Does Python know about your error before it runs your code?</h3>"
      ]
    },
    {
      "cell_type": "markdown",
      "metadata": {
        "id": "da3LqFbba4R_"
      },
      "source": [
        "Python is what is called an <em>interpreted language</em>. Compiled languages examine your entire program at compile time, and are able to warn you about a whole class of errors prior to execution. In contrast, Python interprets your script line by line as it executes it. Python will stop executing the entire program when it encounters an error (unless the error is expected and handled by the programmer, a more advanced subject that we'll cover later on in this course)."
      ]
    },
    {
      "cell_type": "markdown",
      "metadata": {
        "id": "ENPxneP6a4SA"
      },
      "source": [
        "Try to run the code in the cell below and see what happens:"
      ]
    },
    {
      "cell_type": "code",
      "metadata": {
        "id": "4tWyLVrWa4SB",
        "colab": {
          "base_uri": "https://localhost:8080/",
          "height": 232
        },
        "outputId": "52760ac4-9f84-4a51-e043-e77e7e6e62fd"
      },
      "source": [
        "# Print string and error to see the running order\n",
        "\n",
        "print(\"This will be printed\")\n",
        "frint(\"This will cause an error\")\n",
        "print(\"This will NOT be printed\")"
      ],
      "execution_count": 10,
      "outputs": [
        {
          "output_type": "stream",
          "text": [
            "This will be printed\n"
          ],
          "name": "stdout"
        },
        {
          "output_type": "error",
          "ename": "NameError",
          "evalue": "ignored",
          "traceback": [
            "\u001b[0;31m---------------------------------------------------------------------------\u001b[0m",
            "\u001b[0;31mNameError\u001b[0m                                 Traceback (most recent call last)",
            "\u001b[0;32m<ipython-input-10-af59af1b345d>\u001b[0m in \u001b[0;36m<module>\u001b[0;34m()\u001b[0m\n\u001b[1;32m      2\u001b[0m \u001b[0;34m\u001b[0m\u001b[0m\n\u001b[1;32m      3\u001b[0m \u001b[0mprint\u001b[0m\u001b[0;34m(\u001b[0m\u001b[0;34m\"This will be printed\"\u001b[0m\u001b[0;34m)\u001b[0m\u001b[0;34m\u001b[0m\u001b[0;34m\u001b[0m\u001b[0m\n\u001b[0;32m----> 4\u001b[0;31m \u001b[0mfrint\u001b[0m\u001b[0;34m(\u001b[0m\u001b[0;34m\"This will cause an error\"\u001b[0m\u001b[0;34m)\u001b[0m\u001b[0;34m\u001b[0m\u001b[0;34m\u001b[0m\u001b[0m\n\u001b[0m\u001b[1;32m      5\u001b[0m \u001b[0mprint\u001b[0m\u001b[0;34m(\u001b[0m\u001b[0;34m\"This will NOT be printed\"\u001b[0m\u001b[0;34m)\u001b[0m\u001b[0;34m\u001b[0m\u001b[0;34m\u001b[0m\u001b[0m\n",
            "\u001b[0;31mNameError\u001b[0m: name 'frint' is not defined"
          ]
        }
      ]
    },
    {
      "cell_type": "markdown",
      "metadata": {
        "id": "0R-eE89Ya4SE"
      },
      "source": [
        "## <h3 id=\"exercise\">Exercise: Your First Program</h3>"
      ]
    },
    {
      "cell_type": "markdown",
      "metadata": {
        "id": "U5XVjKy7a4SE"
      },
      "source": [
        "<p>Generations of programmers have started their coding careers by simply printing \"Hello, world!\". You will be following in their footsteps.</p>\n",
        "<p>In the code cell below, use the <code>print()</code> function to print out the phrase: <code>Hello, world!</code></p>"
      ]
    },
    {
      "cell_type": "code",
      "metadata": {
        "id": "0WOzLzqWa4SF",
        "colab": {
          "base_uri": "https://localhost:8080/"
        },
        "outputId": "b214715c-c2cb-4a2f-817b-905bd1a34adf"
      },
      "source": [
        "# Write your code below and press Shift+Enter to execute \n",
        "print('Hello, world!')"
      ],
      "execution_count": 74,
      "outputs": [
        {
          "output_type": "stream",
          "text": [
            "Hello, world!\n"
          ],
          "name": "stdout"
        }
      ]
    },
    {
      "cell_type": "markdown",
      "metadata": {
        "id": "G2kqWYsRa4SI"
      },
      "source": [
        "Double-click __here__ for the solution.\n",
        "\n",
        "<!-- Your answer is below:\n",
        "\n",
        "print(\"Hello, world!\")\n",
        "\n",
        "-->"
      ]
    },
    {
      "cell_type": "markdown",
      "metadata": {
        "id": "bekTMEIXa4SJ"
      },
      "source": [
        "<p>Now, let's enhance your code with a comment. In the code cell below, print out the phrase: <code>Hello, world!</code> and comment it with the phrase <code>Print the traditional hello world</code> all in one line of code.</p>"
      ]
    },
    {
      "cell_type": "code",
      "metadata": {
        "id": "qAwp1mxWa4SJ",
        "colab": {
          "base_uri": "https://localhost:8080/"
        },
        "outputId": "3adfee98-0992-44e6-df9e-18e6411d7798"
      },
      "source": [
        "# Write your code below and press Shift+Enter to execute \n",
        "print('Hello, world!') #Print the traditional hello world"
      ],
      "execution_count": 76,
      "outputs": [
        {
          "output_type": "stream",
          "text": [
            "Hello, world!\n"
          ],
          "name": "stdout"
        }
      ]
    },
    {
      "cell_type": "markdown",
      "metadata": {
        "id": "I4w4CG_La4SM"
      },
      "source": [
        "Double-click __here__ for the solution.\n",
        "\n",
        "<!-- Your answer is below:\n",
        "\n",
        "print(\"Hello, world!\") # Print the traditional hello world\n",
        "\n",
        "-->\n"
      ]
    },
    {
      "cell_type": "markdown",
      "metadata": {
        "id": "Ydtypy8Ga4SN"
      },
      "source": [
        "<hr>"
      ]
    },
    {
      "cell_type": "markdown",
      "metadata": {
        "id": "mf1rEQ5Sa4SO"
      },
      "source": [
        "# <h2 id=\"types_objects\">Types of objects in Python</h2>"
      ]
    },
    {
      "cell_type": "markdown",
      "metadata": {
        "id": "uZO4r8SSa4SO"
      },
      "source": [
        "<p>Python is an object-oriented language. There are many different types of objects in Python. Let's start with the most common object types: <i>strings</i>, <i>integers</i> and <i>floats</i>. Anytime you write words (text) in Python, you're using <i>character strings</i> (strings for short). The most common numbers, on the other hand, are <i>integers</i> (e.g. -1, 0, 100) and <i>floats</i>, which represent real numbers (e.g. 3.14, -42.0).</p>"
      ]
    },
    {
      "cell_type": "markdown",
      "metadata": {
        "id": "AavNRlnaa4SP"
      },
      "source": [
        "<a align=\"center\">\n",
        "    <img src=\"https://s3-api.us-geo.objectstorage.softlayer.net/cf-courses-data/CognitiveClass/PY0101EN/Chapter%201/Images/TypesObjects.png\" width=\"600\">\n",
        "</a>"
      ]
    },
    {
      "cell_type": "markdown",
      "metadata": {
        "id": "tNLyRajZa4SQ"
      },
      "source": [
        "<p>The following code cells contain some examples.</p>"
      ]
    },
    {
      "cell_type": "code",
      "metadata": {
        "id": "4zdRzLU7a4SS",
        "colab": {
          "base_uri": "https://localhost:8080/"
        },
        "outputId": "c652bbbe-cd04-4f90-ca78-3424673ca653"
      },
      "source": [
        "# Integer\n",
        "\n",
        "11"
      ],
      "execution_count": 11,
      "outputs": [
        {
          "output_type": "execute_result",
          "data": {
            "text/plain": [
              "11"
            ]
          },
          "metadata": {
            "tags": []
          },
          "execution_count": 11
        }
      ]
    },
    {
      "cell_type": "code",
      "metadata": {
        "id": "YYeFGb2na4SX",
        "colab": {
          "base_uri": "https://localhost:8080/"
        },
        "outputId": "f6421cc1-c23f-47db-ec9b-4b228192349e"
      },
      "source": [
        "# Float\n",
        "\n",
        "2.14"
      ],
      "execution_count": 12,
      "outputs": [
        {
          "output_type": "execute_result",
          "data": {
            "text/plain": [
              "2.14"
            ]
          },
          "metadata": {
            "tags": []
          },
          "execution_count": 12
        }
      ]
    },
    {
      "cell_type": "code",
      "metadata": {
        "id": "0qjebrPIa4Sd",
        "colab": {
          "base_uri": "https://localhost:8080/",
          "height": 35
        },
        "outputId": "f68a3aa2-2f05-4044-ce41-81baecc0aa6d"
      },
      "source": [
        "# String\n",
        "\n",
        "\"Hello, Python 101!\""
      ],
      "execution_count": 13,
      "outputs": [
        {
          "output_type": "execute_result",
          "data": {
            "application/vnd.google.colaboratory.intrinsic+json": {
              "type": "string"
            },
            "text/plain": [
              "'Hello, Python 101!'"
            ]
          },
          "metadata": {
            "tags": []
          },
          "execution_count": 13
        }
      ]
    },
    {
      "cell_type": "markdown",
      "metadata": {
        "id": "LfDFTPLQa4Sm"
      },
      "source": [
        "<p>You can get Python to tell you the type of an expression by using the built-in <code>type()</code> function. You'll notice that Python refers to integers as <code>int</code>, floats as <code>float</code>, and character strings as <code>str</code>.</p>"
      ]
    },
    {
      "cell_type": "code",
      "metadata": {
        "id": "ZP6kcTgca4Sn",
        "colab": {
          "base_uri": "https://localhost:8080/"
        },
        "outputId": "d82d978a-b260-4892-b8c7-f27afd84fd1a"
      },
      "source": [
        "# Type of 12\n",
        "\n",
        "type(12)"
      ],
      "execution_count": 14,
      "outputs": [
        {
          "output_type": "execute_result",
          "data": {
            "text/plain": [
              "int"
            ]
          },
          "metadata": {
            "tags": []
          },
          "execution_count": 14
        }
      ]
    },
    {
      "cell_type": "code",
      "metadata": {
        "id": "fXeZ0FBBa4Sq",
        "colab": {
          "base_uri": "https://localhost:8080/"
        },
        "outputId": "4fbb0583-9c9d-4079-c8dc-efc299135eeb"
      },
      "source": [
        "# Type of 2.14\n",
        "\n",
        "type(2.14)"
      ],
      "execution_count": 15,
      "outputs": [
        {
          "output_type": "execute_result",
          "data": {
            "text/plain": [
              "float"
            ]
          },
          "metadata": {
            "tags": []
          },
          "execution_count": 15
        }
      ]
    },
    {
      "cell_type": "code",
      "metadata": {
        "id": "_R2GQBWPa4Ss",
        "colab": {
          "base_uri": "https://localhost:8080/"
        },
        "outputId": "6d7812fa-40f9-44a1-e06e-f24b421b684a"
      },
      "source": [
        "# Type of \"Hello, Python 101!\"\n",
        "\n",
        "type(\"Hello, Python 101!\")"
      ],
      "execution_count": 17,
      "outputs": [
        {
          "output_type": "execute_result",
          "data": {
            "text/plain": [
              "str"
            ]
          },
          "metadata": {
            "tags": []
          },
          "execution_count": 17
        }
      ]
    },
    {
      "cell_type": "markdown",
      "metadata": {
        "id": "aixlrjf-a4Sw"
      },
      "source": [
        "<p>In the code cell below, use the <code>type()</code> function to check the object type of <code>12.0</code>."
      ]
    },
    {
      "cell_type": "code",
      "metadata": {
        "id": "GOv3a5P7a4Sx"
      },
      "source": [
        "# Write your code below. Don't forget to press Shift+Enter to execute the cell"
      ],
      "execution_count": null,
      "outputs": []
    },
    {
      "cell_type": "markdown",
      "metadata": {
        "id": "rdnyya6La4Sz"
      },
      "source": [
        "Double-click __here__ for the solution.\n",
        "\n",
        "<!-- Your answer is below:\n",
        "\n",
        "type(12.0)\n",
        "\n",
        "-->"
      ]
    },
    {
      "cell_type": "markdown",
      "metadata": {
        "id": "w1XuOagaa4S0"
      },
      "source": [
        "## <h3 id=\"int\">Integers</h3>"
      ]
    },
    {
      "cell_type": "markdown",
      "metadata": {
        "id": "eSDWN_VEa4S1"
      },
      "source": [
        "<p>Here are some examples of integers. Integers can be negative or positive numbers:</p>"
      ]
    },
    {
      "cell_type": "markdown",
      "metadata": {
        "id": "7oAKJz2Na4S1"
      },
      "source": [
        "<a align=\"center\">\n",
        "    <img src=\"https://s3-api.us-geo.objectstorage.softlayer.net/cf-courses-data/CognitiveClass/PY0101EN/Chapter%201/Images/TypesInt.png\" width=\"600\">\n",
        "</a>"
      ]
    },
    {
      "cell_type": "markdown",
      "metadata": {
        "id": "c_S-6UcPa4S2"
      },
      "source": [
        "<p>We can verify this is the case by using, you guessed it, the <code>type()</code> function:"
      ]
    },
    {
      "cell_type": "code",
      "metadata": {
        "id": "yMCHRt8Ua4S3",
        "colab": {
          "base_uri": "https://localhost:8080/"
        },
        "outputId": "952dd431-d80c-4db1-c773-498b9cc35fd8"
      },
      "source": [
        "# Print the type of -1\n",
        "\n",
        "type(-1)"
      ],
      "execution_count": 44,
      "outputs": [
        {
          "output_type": "execute_result",
          "data": {
            "text/plain": [
              "int"
            ]
          },
          "metadata": {
            "tags": []
          },
          "execution_count": 44
        }
      ]
    },
    {
      "cell_type": "code",
      "metadata": {
        "id": "WTNKbnI0a4S8",
        "colab": {
          "base_uri": "https://localhost:8080/"
        },
        "outputId": "88ecb72e-a12e-4f75-c684-835f391dfb14"
      },
      "source": [
        "# Print the type of 4\n",
        "\n",
        "type(4)"
      ],
      "execution_count": 45,
      "outputs": [
        {
          "output_type": "execute_result",
          "data": {
            "text/plain": [
              "int"
            ]
          },
          "metadata": {
            "tags": []
          },
          "execution_count": 45
        }
      ]
    },
    {
      "cell_type": "code",
      "metadata": {
        "id": "S_zj_kMea4S-",
        "colab": {
          "base_uri": "https://localhost:8080/"
        },
        "outputId": "3c7df596-a655-4543-d361-8e13663c71a8"
      },
      "source": [
        "# Print the type of 0\n",
        "\n",
        "type(0)"
      ],
      "execution_count": 46,
      "outputs": [
        {
          "output_type": "execute_result",
          "data": {
            "text/plain": [
              "int"
            ]
          },
          "metadata": {
            "tags": []
          },
          "execution_count": 46
        }
      ]
    },
    {
      "cell_type": "markdown",
      "metadata": {
        "id": "qPNqhV6ka4TB"
      },
      "source": [
        "## <h3 id=\"float\">Floats</h3> "
      ]
    },
    {
      "cell_type": "markdown",
      "metadata": {
        "id": "o9pLdvDXa4TC"
      },
      "source": [
        "<p>Floats represent real numbers; they are a superset of integer numbers but also include \"numbers with decimals\". There are some limitations when it comes to machines representing real numbers, but floating point numbers are a good representation in most cases. You can learn more about the specifics of floats for your runtime environment, by checking the value of <code>sys.float_info</code>. This will also tell you what's the largest and smallest number that can be represented with them.</p>\n",
        "\n",
        "<p>Once again, can test some examples with the <code>type()</code> function:"
      ]
    },
    {
      "cell_type": "code",
      "metadata": {
        "id": "rrfYYAPfa4TD",
        "colab": {
          "base_uri": "https://localhost:8080/"
        },
        "outputId": "918ade44-41f6-4c8a-ec66-6e4d0630a5e2"
      },
      "source": [
        "# Print the type of 1.0\n",
        "\n",
        "type(1.0) # Notice that 1 is an int, and 1.0 is a float"
      ],
      "execution_count": 72,
      "outputs": [
        {
          "output_type": "execute_result",
          "data": {
            "text/plain": [
              "float"
            ]
          },
          "metadata": {
            "tags": []
          },
          "execution_count": 72
        }
      ]
    },
    {
      "cell_type": "code",
      "metadata": {
        "id": "fk3XPZtUa4TG",
        "colab": {
          "base_uri": "https://localhost:8080/"
        },
        "outputId": "ba9a2c7b-df2e-4abf-9f07-a2c9d2ef72e9"
      },
      "source": [
        "# Print the type of 0.5\n",
        "\n",
        "type(0.5)"
      ],
      "execution_count": 73,
      "outputs": [
        {
          "output_type": "execute_result",
          "data": {
            "text/plain": [
              "float"
            ]
          },
          "metadata": {
            "tags": []
          },
          "execution_count": 73
        }
      ]
    },
    {
      "cell_type": "code",
      "metadata": {
        "id": "l8xod6RPa4TI",
        "colab": {
          "base_uri": "https://localhost:8080/"
        },
        "outputId": "595936eb-f951-4fa7-ab12-3b1d6277d164"
      },
      "source": [
        "# Print the type of 0.56\n",
        "\n",
        "type(0.56)"
      ],
      "execution_count": 42,
      "outputs": [
        {
          "output_type": "execute_result",
          "data": {
            "text/plain": [
              "float"
            ]
          },
          "metadata": {
            "tags": []
          },
          "execution_count": 42
        }
      ]
    },
    {
      "cell_type": "code",
      "metadata": {
        "id": "DbDm3zAXa4TO",
        "colab": {
          "base_uri": "https://localhost:8080/"
        },
        "outputId": "7131274e-d4c2-40ee-ed92-c5c5e7e73a02"
      },
      "source": [
        "# System settings about float type\n",
        "\n",
        "sys.float_info"
      ],
      "execution_count": 43,
      "outputs": [
        {
          "output_type": "execute_result",
          "data": {
            "text/plain": [
              "sys.float_info(max=1.7976931348623157e+308, max_exp=1024, max_10_exp=308, min=2.2250738585072014e-308, min_exp=-1021, min_10_exp=-307, dig=15, mant_dig=53, epsilon=2.220446049250313e-16, radix=2, rounds=1)"
            ]
          },
          "metadata": {
            "tags": []
          },
          "execution_count": 43
        }
      ]
    },
    {
      "cell_type": "markdown",
      "metadata": {
        "id": "JgrZIfu5a4TS"
      },
      "source": [
        "## <h3 id=\"convert\">Converting from one object type to a different object type</h3>"
      ]
    },
    {
      "cell_type": "markdown",
      "metadata": {
        "id": "BjqxgJHAa4TU"
      },
      "source": [
        "<p>You can change the type of the object in Python; this is called typecasting. For example, you can convert an <i>integer</i> into a <i>float</i> (e.g. 2 to 2.0).</p>\n",
        "<p>Let's try it:</p>"
      ]
    },
    {
      "cell_type": "code",
      "metadata": {
        "id": "o0V4huh7a4TV",
        "colab": {
          "base_uri": "https://localhost:8080/",
          "height": 34
        },
        "outputId": "36845a6e-1669-40fa-d7ba-1e21477bb47f"
      },
      "source": [
        "# Verify that this is an integer\n",
        "\n",
        "type(2)"
      ],
      "execution_count": null,
      "outputs": [
        {
          "output_type": "execute_result",
          "data": {
            "text/plain": [
              "int"
            ]
          },
          "metadata": {
            "tags": []
          },
          "execution_count": 23
        }
      ]
    },
    {
      "cell_type": "markdown",
      "metadata": {
        "id": "Q5l3X-toa4TY"
      },
      "source": [
        "### <h4>Converting integers to floats</h4>\n",
        "<p>Let's cast integer 2 to float:</p>"
      ]
    },
    {
      "cell_type": "code",
      "metadata": {
        "id": "85MLl5mCa4TY",
        "colab": {
          "base_uri": "https://localhost:8080/",
          "height": 34
        },
        "outputId": "90c9f222-b636-4e53-86e5-ee414a5f7110"
      },
      "source": [
        "# Convert 2 to a float\n",
        "\n",
        "float(2)"
      ],
      "execution_count": null,
      "outputs": [
        {
          "output_type": "execute_result",
          "data": {
            "text/plain": [
              "2.0"
            ]
          },
          "metadata": {
            "tags": []
          },
          "execution_count": 24
        }
      ]
    },
    {
      "cell_type": "code",
      "metadata": {
        "id": "fn0D602ra4Tc",
        "colab": {
          "base_uri": "https://localhost:8080/",
          "height": 34
        },
        "outputId": "41be9ef3-a2f7-4ea3-bbec-74744b0fd070"
      },
      "source": [
        "# Convert integer 2 to a float and check its type\n",
        "\n",
        "type(float(2))"
      ],
      "execution_count": null,
      "outputs": [
        {
          "output_type": "execute_result",
          "data": {
            "text/plain": [
              "float"
            ]
          },
          "metadata": {
            "tags": []
          },
          "execution_count": 25
        }
      ]
    },
    {
      "cell_type": "markdown",
      "metadata": {
        "id": "i7C_NtTNa4Tf"
      },
      "source": [
        "<p>When we convert an integer into a float, we don't really change the value (i.e., the significand) of the number. However, if we cast a float into an integer, we could potentially lose some information. For example, if we cast the float 1.1 to integer we will get 1 and lose the decimal information (i.e., 0.1):</p>"
      ]
    },
    {
      "cell_type": "code",
      "metadata": {
        "id": "XAphrC8sa4Tf",
        "colab": {
          "base_uri": "https://localhost:8080/",
          "height": 34
        },
        "outputId": "1ddf3401-ed47-432c-8eca-fbb4c4757772"
      },
      "source": [
        "# Casting 1.1 to integer will result in loss of information\n",
        "\n",
        "int(1.1)"
      ],
      "execution_count": null,
      "outputs": [
        {
          "output_type": "execute_result",
          "data": {
            "text/plain": [
              "1"
            ]
          },
          "metadata": {
            "tags": []
          },
          "execution_count": 26
        }
      ]
    },
    {
      "cell_type": "markdown",
      "metadata": {
        "id": "tB_bsmhMa4Ts"
      },
      "source": [
        "### <h4>Converting from strings to integers or floats</h4>"
      ]
    },
    {
      "cell_type": "markdown",
      "metadata": {
        "id": "DxM3Oqkga4Tt"
      },
      "source": [
        "<p>Sometimes, we can have a string that contains a number within it. If this is the case, we can cast that string that represents a number into an integer using <code>int()</code>:</p>"
      ]
    },
    {
      "cell_type": "code",
      "metadata": {
        "id": "ADF3Y3yMa4Tu",
        "colab": {
          "base_uri": "https://localhost:8080/",
          "height": 34
        },
        "outputId": "506ec246-36d9-4de6-cd90-6a4fe21760dc"
      },
      "source": [
        "# Convert a string into an integer\n",
        "\n",
        "int('1')"
      ],
      "execution_count": null,
      "outputs": [
        {
          "output_type": "execute_result",
          "data": {
            "text/plain": [
              "1"
            ]
          },
          "metadata": {
            "tags": []
          },
          "execution_count": 27
        }
      ]
    },
    {
      "cell_type": "markdown",
      "metadata": {
        "id": "cpqkCMFaa4Tz"
      },
      "source": [
        "<p>But if you try to do so with a string that is not a perfect match for a number, you'll get an error. Try the following:</p>"
      ]
    },
    {
      "cell_type": "code",
      "metadata": {
        "id": "C4muW09aa4T1",
        "colab": {
          "base_uri": "https://localhost:8080/",
          "height": 180
        },
        "outputId": "bde1e0ef-1080-4a4f-8d93-217fce2e8272"
      },
      "source": [
        "# Convert a string into an integer with error\n",
        "\n",
        "int('1 or 2 people')"
      ],
      "execution_count": null,
      "outputs": [
        {
          "output_type": "error",
          "ename": "ValueError",
          "evalue": "ignored",
          "traceback": [
            "\u001b[0;31m---------------------------------------------------------------------------\u001b[0m",
            "\u001b[0;31mValueError\u001b[0m                                Traceback (most recent call last)",
            "\u001b[0;32m<ipython-input-28-0103b7d9b262>\u001b[0m in \u001b[0;36m<module>\u001b[0;34m()\u001b[0m\n\u001b[1;32m      1\u001b[0m \u001b[0;34m\u001b[0m\u001b[0m\n\u001b[0;32m----> 2\u001b[0;31m \u001b[0mint\u001b[0m\u001b[0;34m(\u001b[0m\u001b[0;34m'1 or 2 people'\u001b[0m\u001b[0;34m)\u001b[0m\u001b[0;34m\u001b[0m\u001b[0;34m\u001b[0m\u001b[0m\n\u001b[0m",
            "\u001b[0;31mValueError\u001b[0m: invalid literal for int() with base 10: '1 or 2 people'"
          ]
        }
      ]
    },
    {
      "cell_type": "markdown",
      "metadata": {
        "id": "R_S5nb2Za4T3"
      },
      "source": [
        "<p>You can also convert strings containing floating point numbers into <i>float</i> objects:</p>"
      ]
    },
    {
      "cell_type": "code",
      "metadata": {
        "id": "J2pwRdlBa4T4",
        "colab": {
          "base_uri": "https://localhost:8080/",
          "height": 34
        },
        "outputId": "4021ce0e-4d73-4d12-9aad-9012c5a0e04e"
      },
      "source": [
        "# Convert the string \"1.2\" into a float\n",
        "\n",
        "float('1.2')"
      ],
      "execution_count": null,
      "outputs": [
        {
          "output_type": "execute_result",
          "data": {
            "text/plain": [
              "1.2"
            ]
          },
          "metadata": {
            "tags": []
          },
          "execution_count": 29
        }
      ]
    },
    {
      "cell_type": "markdown",
      "metadata": {
        "id": "Y8gR848Ya4T7"
      },
      "source": [
        "<hr/>\n",
        "<div class=\"alert alert-success alertsuccess\" style=\"margin-top: 20px\">\n",
        "    [Tip:] Note that strings can be represented with single quotes (<code>'1.2'</code>) or double quotes (<code>\"1.2\"</code>), but you can't mix both (e.g., <code>\"1.2'</code>).\n",
        "</div>\n",
        "<hr/>"
      ]
    },
    {
      "cell_type": "markdown",
      "metadata": {
        "id": "P48As24Na4T8"
      },
      "source": [
        "### <h4>Converting numbers to strings</h4>"
      ]
    },
    {
      "cell_type": "markdown",
      "metadata": {
        "id": "syZyKu-Va4T9"
      },
      "source": [
        "<p>If we can convert strings to numbers, it is only natural to assume that we can convert numbers to strings, right?</p>"
      ]
    },
    {
      "cell_type": "code",
      "metadata": {
        "id": "XyOVd3jUa4UB",
        "colab": {
          "base_uri": "https://localhost:8080/",
          "height": 34
        },
        "outputId": "f2789c7f-bbe7-42dc-b8bf-94711012147d"
      },
      "source": [
        "# Convert an integer to a string\n",
        "\n",
        "str(1)"
      ],
      "execution_count": null,
      "outputs": [
        {
          "output_type": "execute_result",
          "data": {
            "text/plain": [
              "'1'"
            ]
          },
          "metadata": {
            "tags": []
          },
          "execution_count": 30
        }
      ]
    },
    {
      "cell_type": "markdown",
      "metadata": {
        "id": "1aUU9akWa4UG"
      },
      "source": [
        "<p>And there is no reason why we shouldn't be able to make floats into strings as well:</p> "
      ]
    },
    {
      "cell_type": "code",
      "metadata": {
        "id": "f04KcV0Na4UH",
        "colab": {
          "base_uri": "https://localhost:8080/",
          "height": 34
        },
        "outputId": "ce8ddaa9-1a31-44e8-c63b-c6725d012105"
      },
      "source": [
        "# Convert a float to a string\n",
        "\n",
        "str(1.2)"
      ],
      "execution_count": null,
      "outputs": [
        {
          "output_type": "execute_result",
          "data": {
            "text/plain": [
              "'1.2'"
            ]
          },
          "metadata": {
            "tags": []
          },
          "execution_count": 31
        }
      ]
    },
    {
      "cell_type": "markdown",
      "metadata": {
        "id": "k7n2LhaPa4UJ"
      },
      "source": [
        "## <h3 id=\"bool\">Boolean data type</h3>"
      ]
    },
    {
      "cell_type": "markdown",
      "metadata": {
        "id": "XTwYrLlFa4UK"
      },
      "source": [
        "<p><i>Boolean</i> is another important type in Python. An object of type <i>Boolean</i> can take on one of two values: <code>True</code> or <code>False</code>:</p>"
      ]
    },
    {
      "cell_type": "code",
      "metadata": {
        "id": "asDQybS7a4UM",
        "colab": {
          "base_uri": "https://localhost:8080/",
          "height": 34
        },
        "outputId": "1c175cae-f6a7-487f-d9dc-9c5c52a03bfe"
      },
      "source": [
        "# Value true\n",
        "\n",
        "True"
      ],
      "execution_count": null,
      "outputs": [
        {
          "output_type": "execute_result",
          "data": {
            "text/plain": [
              "True"
            ]
          },
          "metadata": {
            "tags": []
          },
          "execution_count": 32
        }
      ]
    },
    {
      "cell_type": "markdown",
      "metadata": {
        "id": "9dRU1OQUa4UO"
      },
      "source": [
        "<p>Notice that the value <code>True</code> has an uppercase \"T\". The same is true for <code>False</code> (i.e. you must use the uppercase \"F\").</p>"
      ]
    },
    {
      "cell_type": "code",
      "metadata": {
        "id": "Fe-erKcZa4UP",
        "colab": {
          "base_uri": "https://localhost:8080/",
          "height": 34
        },
        "outputId": "ce992331-e47a-4c4c-e557-e43a616433d9"
      },
      "source": [
        "# Value false\n",
        "\n",
        "False"
      ],
      "execution_count": null,
      "outputs": [
        {
          "output_type": "execute_result",
          "data": {
            "text/plain": [
              "False"
            ]
          },
          "metadata": {
            "tags": []
          },
          "execution_count": 33
        }
      ]
    },
    {
      "cell_type": "markdown",
      "metadata": {
        "id": "O9PKzWr_a4UQ"
      },
      "source": [
        "<p>When you ask Python to display the type of a boolean object it will show <code>bool</code> which stands for <i>boolean</i>:</p> "
      ]
    },
    {
      "cell_type": "code",
      "metadata": {
        "id": "oCdwKQuHa4UR",
        "colab": {
          "base_uri": "https://localhost:8080/",
          "height": 34
        },
        "outputId": "563abfd8-7df1-43d9-dc92-d8f29e2a1f4a"
      },
      "source": [
        "# Type of True\n",
        "\n",
        "type(True)"
      ],
      "execution_count": null,
      "outputs": [
        {
          "output_type": "execute_result",
          "data": {
            "text/plain": [
              "bool"
            ]
          },
          "metadata": {
            "tags": []
          },
          "execution_count": 34
        }
      ]
    },
    {
      "cell_type": "code",
      "metadata": {
        "id": "XBieSUbNa4UT",
        "colab": {
          "base_uri": "https://localhost:8080/",
          "height": 34
        },
        "outputId": "730dcaf8-38d9-49d6-efe5-05ff222f0c55"
      },
      "source": [
        "# Type of False\n",
        "\n",
        "type(False)"
      ],
      "execution_count": null,
      "outputs": [
        {
          "output_type": "execute_result",
          "data": {
            "text/plain": [
              "bool"
            ]
          },
          "metadata": {
            "tags": []
          },
          "execution_count": 35
        }
      ]
    },
    {
      "cell_type": "markdown",
      "metadata": {
        "id": "dpK9zVuza4UV"
      },
      "source": [
        "<p>We can cast boolean objects to other data types. If we cast a boolean with a value of <code>True</code> to an integer or float we will get a one. If we cast a boolean with a value of <code>False</code> to an integer or float we will get a zero. Similarly, if we cast a 1 to a Boolean, you get a <code>True</code>. And if we cast a 0 to a Boolean we will get a <code>False</code>. Let's give it a try:</p> "
      ]
    },
    {
      "cell_type": "code",
      "metadata": {
        "id": "ATODCv3na4UV",
        "colab": {
          "base_uri": "https://localhost:8080/",
          "height": 34
        },
        "outputId": "7b381cf4-5284-4a5f-8656-74e55883cbd6"
      },
      "source": [
        "# Convert True to int\n",
        "\n",
        "int(True)"
      ],
      "execution_count": null,
      "outputs": [
        {
          "output_type": "execute_result",
          "data": {
            "text/plain": [
              "1"
            ]
          },
          "metadata": {
            "tags": []
          },
          "execution_count": 36
        }
      ]
    },
    {
      "cell_type": "code",
      "metadata": {
        "id": "UEBlaM1Ka4UX",
        "colab": {
          "base_uri": "https://localhost:8080/",
          "height": 34
        },
        "outputId": "e6fa0435-787e-4124-ab8f-823a56aab7e1"
      },
      "source": [
        "# Convert 1 to boolean\n",
        "\n",
        "bool(1)"
      ],
      "execution_count": null,
      "outputs": [
        {
          "output_type": "execute_result",
          "data": {
            "text/plain": [
              "True"
            ]
          },
          "metadata": {
            "tags": []
          },
          "execution_count": 37
        }
      ]
    },
    {
      "cell_type": "code",
      "metadata": {
        "id": "Io-pqQlVa4UZ",
        "colab": {
          "base_uri": "https://localhost:8080/",
          "height": 34
        },
        "outputId": "aea01e20-de98-441f-9192-89d3eb76dd00"
      },
      "source": [
        "# Convert 0 to boolean\n",
        "\n",
        "bool(0)"
      ],
      "execution_count": null,
      "outputs": [
        {
          "output_type": "execute_result",
          "data": {
            "text/plain": [
              "False"
            ]
          },
          "metadata": {
            "tags": []
          },
          "execution_count": 38
        }
      ]
    },
    {
      "cell_type": "code",
      "metadata": {
        "id": "lefh8J-1a4Uc",
        "colab": {
          "base_uri": "https://localhost:8080/",
          "height": 34
        },
        "outputId": "cb079722-1a8e-407b-80ba-8efd08d512db"
      },
      "source": [
        "# Convert True to float\n",
        "\n",
        "float(True)"
      ],
      "execution_count": null,
      "outputs": [
        {
          "output_type": "execute_result",
          "data": {
            "text/plain": [
              "1.0"
            ]
          },
          "metadata": {
            "tags": []
          },
          "execution_count": 39
        }
      ]
    },
    {
      "cell_type": "markdown",
      "metadata": {
        "id": "uY8CSnAQa4Uh"
      },
      "source": [
        "## <h3 id=\"exer_type\">Exercise: Types</h3>"
      ]
    },
    {
      "cell_type": "markdown",
      "metadata": {
        "id": "f5Sugfdba4Ui"
      },
      "source": [
        "<p>What is the data type of the result of: <code>6 / 2</code>?</p>"
      ]
    },
    {
      "cell_type": "code",
      "metadata": {
        "id": "oN3v6DoPa4Uj",
        "colab": {
          "base_uri": "https://localhost:8080/"
        },
        "outputId": "1d55aa89-6543-4eca-8650-8fedc8dc88d6"
      },
      "source": [
        "# Write your code below. Don't forget to press Shift+Enter to execute the cell\n",
        "type((6/2))\n"
      ],
      "execution_count": 77,
      "outputs": [
        {
          "output_type": "execute_result",
          "data": {
            "text/plain": [
              "float"
            ]
          },
          "metadata": {
            "tags": []
          },
          "execution_count": 77
        }
      ]
    },
    {
      "cell_type": "markdown",
      "metadata": {
        "id": "EyEdbLXZa4Um"
      },
      "source": [
        "Double-click __here__ for the solution.\n",
        "\n",
        "<!-- Your answer is below:\n",
        "type(6/2) # float\n",
        "-->"
      ]
    },
    {
      "cell_type": "markdown",
      "metadata": {
        "id": "tadbmJbJa4Un"
      },
      "source": [
        "<p>What is the type of the result of: <code>6 // 2</code>? (Note the double slash <code>//</code>.)</p>"
      ]
    },
    {
      "cell_type": "code",
      "metadata": {
        "id": "Fe97ugAxa4Un",
        "colab": {
          "base_uri": "https://localhost:8080/"
        },
        "outputId": "30b77379-c0dc-427e-b413-6fabedd2d1fb"
      },
      "source": [
        "# Write your code below. Don't forget to press Shift+Enter to execute the cell\n",
        "type((6//2))"
      ],
      "execution_count": 78,
      "outputs": [
        {
          "output_type": "execute_result",
          "data": {
            "text/plain": [
              "int"
            ]
          },
          "metadata": {
            "tags": []
          },
          "execution_count": 78
        }
      ]
    },
    {
      "cell_type": "markdown",
      "metadata": {
        "id": "M1xC0LNxa4Ur"
      },
      "source": [
        "Double-click __here__ for the solution.\n",
        "\n",
        "<!-- Your answer is below:\n",
        "type(6//2) # int, as the double slashes stand for integer division \n",
        "-->"
      ]
    },
    {
      "cell_type": "markdown",
      "metadata": {
        "id": "tEilZyu2a4Ur"
      },
      "source": [
        "<hr>"
      ]
    },
    {
      "cell_type": "markdown",
      "metadata": {
        "id": "Lv8fg7uZa4Us"
      },
      "source": [
        "# <h2 id=\"expressions\">Expression and Variables</h2>"
      ]
    },
    {
      "cell_type": "markdown",
      "metadata": {
        "id": "gy9f3vbWa4Ut"
      },
      "source": [
        "<h3 id=\"exp\">Expressions</h3>"
      ]
    },
    {
      "cell_type": "markdown",
      "metadata": {
        "id": "fbcQQQwYa4Uu"
      },
      "source": [
        "<p>Expressions in Python can include operations among compatible types (e.g., integers and floats). For example, basic arithmetic operations like adding multiple numbers:</p>"
      ]
    },
    {
      "cell_type": "code",
      "metadata": {
        "id": "XW8BxuAha4Uv",
        "colab": {
          "base_uri": "https://localhost:8080/"
        },
        "outputId": "a28c9201-5636-4627-f11c-fadbba28fe50"
      },
      "source": [
        "# Addition operation expression\n",
        "\n",
        "43 + 60 + 16 + 41"
      ],
      "execution_count": 47,
      "outputs": [
        {
          "output_type": "execute_result",
          "data": {
            "text/plain": [
              "160"
            ]
          },
          "metadata": {
            "tags": []
          },
          "execution_count": 47
        }
      ]
    },
    {
      "cell_type": "markdown",
      "metadata": {
        "id": "nIJY70P9a4Ux"
      },
      "source": [
        "<p>We can perform subtraction operations using the minus operator. In this case the result is a negative number:</p>"
      ]
    },
    {
      "cell_type": "code",
      "metadata": {
        "id": "G1B5BDima4Uz",
        "colab": {
          "base_uri": "https://localhost:8080/"
        },
        "outputId": "8e419f30-d209-4fb3-9dd0-3d9d4af42c0c"
      },
      "source": [
        "# Subtraction operation expression\n",
        "\n",
        "50 - 60"
      ],
      "execution_count": 48,
      "outputs": [
        {
          "output_type": "execute_result",
          "data": {
            "text/plain": [
              "-10"
            ]
          },
          "metadata": {
            "tags": []
          },
          "execution_count": 48
        }
      ]
    },
    {
      "cell_type": "markdown",
      "metadata": {
        "id": "kGSjwadPa4U6"
      },
      "source": [
        "<p>We can do multiplication using an asterisk:</p>"
      ]
    },
    {
      "cell_type": "code",
      "metadata": {
        "id": "4ejlFGL1a4U8",
        "colab": {
          "base_uri": "https://localhost:8080/"
        },
        "outputId": "f4d5ae30-aa7c-4d20-a69d-f339c2b7fdbf"
      },
      "source": [
        "# Multiplication operation expression\n",
        "\n",
        "5 * 5"
      ],
      "execution_count": 49,
      "outputs": [
        {
          "output_type": "execute_result",
          "data": {
            "text/plain": [
              "25"
            ]
          },
          "metadata": {
            "tags": []
          },
          "execution_count": 49
        }
      ]
    },
    {
      "cell_type": "markdown",
      "metadata": {
        "id": "AEYucEp2a4U-"
      },
      "source": [
        "<p>We can also perform division with the forward slash:"
      ]
    },
    {
      "cell_type": "code",
      "metadata": {
        "id": "SAoJClw9a4U_",
        "colab": {
          "base_uri": "https://localhost:8080/"
        },
        "outputId": "2e583cf9-c3f1-4d4b-f3d1-e4c1e9b9d219"
      },
      "source": [
        "# Division operation expression\n",
        "\n",
        "25 / 5"
      ],
      "execution_count": 50,
      "outputs": [
        {
          "output_type": "execute_result",
          "data": {
            "text/plain": [
              "5.0"
            ]
          },
          "metadata": {
            "tags": []
          },
          "execution_count": 50
        }
      ]
    },
    {
      "cell_type": "code",
      "metadata": {
        "id": "N2B_sUgba4VC",
        "colab": {
          "base_uri": "https://localhost:8080/"
        },
        "outputId": "215b6ec9-5e2b-46ea-b60e-e899150d319d"
      },
      "source": [
        "# Division operation expression\n",
        "\n",
        "25 / 6"
      ],
      "execution_count": 51,
      "outputs": [
        {
          "output_type": "execute_result",
          "data": {
            "text/plain": [
              "4.166666666666667"
            ]
          },
          "metadata": {
            "tags": []
          },
          "execution_count": 51
        }
      ]
    },
    {
      "cell_type": "markdown",
      "metadata": {
        "id": "pGdO9e6ba4VF"
      },
      "source": [
        "<p>As seen in the quiz above, we can use the double slash for integer division, where the result is rounded to the nearest integer:"
      ]
    },
    {
      "cell_type": "code",
      "metadata": {
        "id": "xBPDkY2Pa4VG",
        "colab": {
          "base_uri": "https://localhost:8080/"
        },
        "outputId": "d8eaa9a8-bde0-4d6c-dfd1-29052ca84aa4"
      },
      "source": [
        "# Integer division operation expression\n",
        "\n",
        "25 // 5"
      ],
      "execution_count": 69,
      "outputs": [
        {
          "output_type": "execute_result",
          "data": {
            "text/plain": [
              "5"
            ]
          },
          "metadata": {
            "tags": []
          },
          "execution_count": 69
        }
      ]
    },
    {
      "cell_type": "markdown",
      "metadata": {
        "id": "fan-PMe4wmhr"
      },
      "source": [
        "# New Section"
      ]
    },
    {
      "cell_type": "code",
      "metadata": {
        "id": "UIsdvBfma4VH",
        "colab": {
          "base_uri": "https://localhost:8080/"
        },
        "outputId": "5903fb89-fa7d-4f23-9229-b6a7d3517635"
      },
      "source": [
        "# Integer division operation expression\n",
        "\n",
        "25 // 6"
      ],
      "execution_count": 70,
      "outputs": [
        {
          "output_type": "execute_result",
          "data": {
            "text/plain": [
              "4"
            ]
          },
          "metadata": {
            "tags": []
          },
          "execution_count": 70
        }
      ]
    },
    {
      "cell_type": "markdown",
      "metadata": {
        "id": "DHtf-AFGa4VJ"
      },
      "source": [
        "## <h3 id=\"exer_exp\">Exercise: Expression</h3>"
      ]
    },
    {
      "cell_type": "markdown",
      "metadata": {
        "id": "PxlozGQAa4VJ"
      },
      "source": [
        "<p>Let's write an expression that calculates how many hours there are in 160 minutes:"
      ]
    },
    {
      "cell_type": "code",
      "metadata": {
        "id": "AbjCCudLa4VK",
        "colab": {
          "base_uri": "https://localhost:8080/"
        },
        "outputId": "34b9fc43-4676-4af9-9a56-65a11882bf29"
      },
      "source": [
        "# Write your code below. Don't forget to press Shift+Enter to execute the cell\n",
        "160 / 60\n"
      ],
      "execution_count": 79,
      "outputs": [
        {
          "output_type": "execute_result",
          "data": {
            "text/plain": [
              "2.6666666666666665"
            ]
          },
          "metadata": {
            "tags": []
          },
          "execution_count": 79
        }
      ]
    },
    {
      "cell_type": "markdown",
      "metadata": {
        "id": "WWPt4mLqa4VM"
      },
      "source": [
        "Double-click __here__ for the solution.\n",
        "\n",
        "<!-- Your answer is below:\n",
        "160/60 \n",
        "# Or \n",
        "160//60\n",
        "-->"
      ]
    },
    {
      "cell_type": "markdown",
      "metadata": {
        "id": "u19LikRWa4VM"
      },
      "source": [
        "<p>Python follows well accepted mathematical conventions when evaluating mathematical expressions. In the following example, Python adds 30 to the result of the multiplication (i.e., 120)."
      ]
    },
    {
      "cell_type": "code",
      "metadata": {
        "id": "rR43d169a4VN",
        "colab": {
          "base_uri": "https://localhost:8080/"
        },
        "outputId": "a875b9c3-df06-42e6-bc1f-6b923fd09d64"
      },
      "source": [
        "# Mathematical expression\n",
        "\n",
        "30 + 2 * 60"
      ],
      "execution_count": 65,
      "outputs": [
        {
          "output_type": "execute_result",
          "data": {
            "text/plain": [
              "150"
            ]
          },
          "metadata": {
            "tags": []
          },
          "execution_count": 65
        }
      ]
    },
    {
      "cell_type": "markdown",
      "metadata": {
        "id": "CsRzHdZ0a4VQ"
      },
      "source": [
        "<p>And just like mathematics, expressions enclosed in parentheses have priority. So the following multiplies 32 by 60."
      ]
    },
    {
      "cell_type": "code",
      "metadata": {
        "id": "_6vLgItga4VS",
        "colab": {
          "base_uri": "https://localhost:8080/"
        },
        "outputId": "5b022dfe-0ffb-4962-9dd8-4f4aae66bcd6"
      },
      "source": [
        "# Mathematical expression\n",
        "\n",
        "(30 + 2) * 60"
      ],
      "execution_count": 66,
      "outputs": [
        {
          "output_type": "execute_result",
          "data": {
            "text/plain": [
              "1920"
            ]
          },
          "metadata": {
            "tags": []
          },
          "execution_count": 66
        }
      ]
    },
    {
      "cell_type": "markdown",
      "metadata": {
        "id": "UGH2afUra4VW"
      },
      "source": [
        "## <h3 id=\"var\">Variables</h3>"
      ]
    },
    {
      "cell_type": "markdown",
      "metadata": {
        "id": "81ru-f8sa4VX"
      },
      "source": [
        "<p>Just like with most programming languages, we can store values in <i>variables</i>, so we can use them later on. For example:</p>"
      ]
    },
    {
      "cell_type": "code",
      "metadata": {
        "id": "_1SBG9l2a4VY"
      },
      "source": [
        "# Store value into variable\n",
        "\n",
        "x = 43 + 60 + 16 + 41"
      ],
      "execution_count": 57,
      "outputs": []
    },
    {
      "cell_type": "markdown",
      "metadata": {
        "id": "vMi5K3kba4Vb"
      },
      "source": [
        "<p>To see the value of <code>x</code> in a Notebook, we can simply place it on the last line of a cell:</p>"
      ]
    },
    {
      "cell_type": "code",
      "metadata": {
        "id": "abbrBhIVa4Vc",
        "colab": {
          "base_uri": "https://localhost:8080/"
        },
        "outputId": "1241ce49-e9fd-4ac1-862b-57c03783b2aa"
      },
      "source": [
        "# Print out the value in variable\n",
        "\n",
        "x"
      ],
      "execution_count": 58,
      "outputs": [
        {
          "output_type": "execute_result",
          "data": {
            "text/plain": [
              "160"
            ]
          },
          "metadata": {
            "tags": []
          },
          "execution_count": 58
        }
      ]
    },
    {
      "cell_type": "markdown",
      "metadata": {
        "id": "s6cCqkMya4Vh"
      },
      "source": [
        "<p>We can also perform operations on <code>x</code> and save the result to a new variable:</p>"
      ]
    },
    {
      "cell_type": "code",
      "metadata": {
        "id": "lBjnJZHla4Vi",
        "colab": {
          "base_uri": "https://localhost:8080/"
        },
        "outputId": "8d8f3fad-9b69-4037-e8d3-a88374f45022"
      },
      "source": [
        "# Use another variable to store the result of the operation between variable and value\n",
        "\n",
        "y = x / 60\n",
        "y"
      ],
      "execution_count": 59,
      "outputs": [
        {
          "output_type": "execute_result",
          "data": {
            "text/plain": [
              "2.6666666666666665"
            ]
          },
          "metadata": {
            "tags": []
          },
          "execution_count": 59
        }
      ]
    },
    {
      "cell_type": "markdown",
      "metadata": {
        "id": "k4wOx7Aua4Vm"
      },
      "source": [
        "<p>If we save a value to an existing variable, the new value will overwrite the previous value:</p>"
      ]
    },
    {
      "cell_type": "code",
      "metadata": {
        "id": "R7Q4Fa_Ha4Vm",
        "colab": {
          "base_uri": "https://localhost:8080/"
        },
        "outputId": "5825f02f-b6ba-44ad-b286-f107595e9d4b"
      },
      "source": [
        "# Overwrite variable with new value\n",
        "\n",
        "x = x / 60\n",
        "x"
      ],
      "execution_count": 60,
      "outputs": [
        {
          "output_type": "execute_result",
          "data": {
            "text/plain": [
              "2.6666666666666665"
            ]
          },
          "metadata": {
            "tags": []
          },
          "execution_count": 60
        }
      ]
    },
    {
      "cell_type": "markdown",
      "metadata": {
        "id": "wi7gbyp0a4Vp"
      },
      "source": [
        "<p>It's a good practice to use meaningful variable names, so you and others can read the code and understand it more easily:</p>"
      ]
    },
    {
      "cell_type": "code",
      "metadata": {
        "id": "wEaYRJHVa4Vq",
        "colab": {
          "base_uri": "https://localhost:8080/"
        },
        "outputId": "9c9f48f7-1293-4563-a327-d8431a17aaca"
      },
      "source": [
        "# Name the variables meaningfully\n",
        "\n",
        "total_min = 43 + 42 + 57 # Total length of albums in minutes\n",
        "total_min"
      ],
      "execution_count": 61,
      "outputs": [
        {
          "output_type": "execute_result",
          "data": {
            "text/plain": [
              "142"
            ]
          },
          "metadata": {
            "tags": []
          },
          "execution_count": 61
        }
      ]
    },
    {
      "cell_type": "code",
      "metadata": {
        "id": "ciAkc5Hda4Vu",
        "colab": {
          "base_uri": "https://localhost:8080/"
        },
        "outputId": "923ccf7f-28de-420a-8f2f-f8eb454c2850"
      },
      "source": [
        "# Name the variables meaningfully\n",
        "\n",
        "total_hours = total_min / 60 # Total length of albums in hours \n",
        "total_hours"
      ],
      "execution_count": 62,
      "outputs": [
        {
          "output_type": "execute_result",
          "data": {
            "text/plain": [
              "2.3666666666666667"
            ]
          },
          "metadata": {
            "tags": []
          },
          "execution_count": 62
        }
      ]
    },
    {
      "cell_type": "markdown",
      "metadata": {
        "id": "tazK9xpqa4Vw"
      },
      "source": [
        "<p>In the cells above we added the length of three albums in minutes and stored it in <code>total_min</code>. We then divided it by 60 to calculate total length <code>total_hours</code> in hours. You can also do it all at once in a single expression, as long as you use parenthesis to add the albums length before you divide, as shown below.</p>"
      ]
    },
    {
      "cell_type": "code",
      "metadata": {
        "id": "E0AKn1yJa4Vx",
        "colab": {
          "base_uri": "https://localhost:8080/"
        },
        "outputId": "ea3a8f08-5c6c-42e7-cf91-03600362163d"
      },
      "source": [
        "# Complicate expression\n",
        "\n",
        "total_hours = (43 + 42 + 57) / 60  # Total hours in a single expression\n",
        "total_hours"
      ],
      "execution_count": 63,
      "outputs": [
        {
          "output_type": "execute_result",
          "data": {
            "text/plain": [
              "2.3666666666666667"
            ]
          },
          "metadata": {
            "tags": []
          },
          "execution_count": 63
        }
      ]
    },
    {
      "cell_type": "markdown",
      "metadata": {
        "id": "LcchiG20a4Vz"
      },
      "source": [
        "<p>If you'd rather have total hours as an integer, you can of course replace the floating point division with integer division (i.e., <code>//</code>).</p>"
      ]
    },
    {
      "cell_type": "markdown",
      "metadata": {
        "id": "4w6PJrEca4V0"
      },
      "source": [
        "## <h3 id=\"exer_exp_var\">Exercise: Expression and Variables in Python</h3>"
      ]
    },
    {
      "cell_type": "markdown",
      "metadata": {
        "id": "XKpy1GjJa4V1"
      },
      "source": [
        "<p>What is the value of <code>x</code> where <code>x = 3 + 2 * 2</code></p>"
      ]
    },
    {
      "cell_type": "code",
      "metadata": {
        "id": "gfmCHsoOa4V1",
        "colab": {
          "base_uri": "https://localhost:8080/"
        },
        "outputId": "7aa4166a-563a-42f3-dc12-fe319fab0122"
      },
      "source": [
        "# Write your code below. Don't forget to press Shift+Enter to execute the cell\n",
        "x = 3 + 2 * 2\n",
        "print(x)"
      ],
      "execution_count": 80,
      "outputs": [
        {
          "output_type": "stream",
          "text": [
            "7\n"
          ],
          "name": "stdout"
        }
      ]
    },
    {
      "cell_type": "markdown",
      "metadata": {
        "id": "_wb_MW1da4V7"
      },
      "source": [
        "Double-click __here__ for the solution.\n",
        "\n",
        "<!-- Your answer is below:\n",
        "7\n",
        "-->\n"
      ]
    },
    {
      "cell_type": "markdown",
      "metadata": {
        "id": "MScST9hka4V7"
      },
      "source": [
        "<p>What is the value of <code>y</code> where <code>y = (3 + 2) * 2</code>?</p>"
      ]
    },
    {
      "cell_type": "code",
      "metadata": {
        "id": "3zNBfOzua4V8",
        "colab": {
          "base_uri": "https://localhost:8080/"
        },
        "outputId": "7e4d9677-426b-4250-fd66-c417aa1c75e0"
      },
      "source": [
        "# Write your code below. Don't forget to press Shift+Enter to execute the cell\n",
        "y = (3 + 2) * 2\n",
        "print(y)"
      ],
      "execution_count": 81,
      "outputs": [
        {
          "output_type": "stream",
          "text": [
            "10\n"
          ],
          "name": "stdout"
        }
      ]
    },
    {
      "cell_type": "markdown",
      "metadata": {
        "id": "qpBAOYeOa4V-"
      },
      "source": [
        "Double-click __here__ for the solution.\n",
        "\n",
        "<!-- Your answer is below:\n",
        "10\n",
        "-->"
      ]
    },
    {
      "cell_type": "markdown",
      "metadata": {
        "id": "jRJeN1mja4WA"
      },
      "source": [
        "<p>What is the value of <code>z</code> where <code>z = x + y</code>?</p>"
      ]
    },
    {
      "cell_type": "code",
      "metadata": {
        "id": "0GYlGqbVa4WA",
        "colab": {
          "base_uri": "https://localhost:8080/"
        },
        "outputId": "4776c9c2-a346-4212-a243-3a6d4db638fe"
      },
      "source": [
        "# Write your code below. Don't forget to press Shift+Enter to execute the cell\n",
        "z = x + y\n",
        "print(z)"
      ],
      "execution_count": 82,
      "outputs": [
        {
          "output_type": "stream",
          "text": [
            "17\n"
          ],
          "name": "stdout"
        }
      ]
    },
    {
      "cell_type": "markdown",
      "metadata": {
        "id": "_FonNUYna4WC"
      },
      "source": [
        "Double-click __here__ for the solution.\n",
        "\n",
        "<!-- Your answer is below:\n",
        "17\n",
        "-->"
      ]
    },
    {
      "cell_type": "markdown",
      "metadata": {
        "id": "FND8K6qXa4WD"
      },
      "source": [
        "#<hr>\n",
        "<h2>The last exercise!</h2>\n",
        "<p>Congratulations, you have completed your first lesson and hands-on lab in Python. However, there is one more thing you need to do. The Data Science community encourages sharing work. The best way to share and showcase your work is to share it on GitHub. By sharing your notebook on GitHub you are not only building your reputation with fellow data scientists, but you can also show it off when applying for a job. Even though this was your first piece of work, it is never too early to start building good habits. So, please read and follow <a href=\"https://cognitiveclass.ai/blog/data-scientists-stand-out-by-sharing-your-notebooks/\" target=\"_blank\">this article</a> to learn how to share your work.\n",
        "<hr>"
      ]
    },
    {
      "cell_type": "markdown",
      "metadata": {
        "id": "UaZcreE4a4WE"
      },
      "source": [
        "<p>Copyright &copy; 2018 IBM Developer Skills Network. This notebook and its source code are released under the terms of the <a href=\"https://cognitiveclass.ai/mit-license/\">MIT License</a>.</p>"
      ]
    }
  ]
}