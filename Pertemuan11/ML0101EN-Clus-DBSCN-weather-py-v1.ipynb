{
  "nbformat": 4,
  "nbformat_minor": 0,
  "metadata": {
    "colab": {
      "name": "ML0101EN-Clus-DBSCN-weather-py-v1.ipynb",
      "provenance": [],
      "collapsed_sections": [],
      "toc_visible": true
    },
    "kernelspec": {
      "display_name": "Python 3",
      "language": "python",
      "name": "python3"
    }
  },
  "cells": [
    {
      "cell_type": "markdown",
      "metadata": {
        "id": "WHZQdXGE4JC2"
      },
      "source": [
        "<img src = \"https://imgur.com/s4wTnl7.jpg\"  align = \"center\">\n",
        "\n",
        "# <center>Density-Based Clustering</center>"
      ]
    },
    {
      "cell_type": "markdown",
      "metadata": {
        "id": "Z1odlag34JC5"
      },
      "source": [
        "Most of the traditional clustering techniques, such as k-means, hierarchical and fuzzy clustering, can be used to group data without supervision. \n",
        "\n",
        "However, when applied to tasks with arbitrary shape clusters, or clusters within cluster, the traditional techniques might be unable to achieve good results. That is, elements in the same cluster might not share enough similarity or the performance may be poor.\n",
        "Additionally, Density-based Clustering locates regions of high density that are separated from one another by regions of low density. Density, in this context, is defined as the number of points within a specified radius.\n",
        "\n",
        "\n",
        "\n",
        "In this section, the main focus will be manipulating the data and properties of DBSCAN and observing the resulting clustering."
      ]
    },
    {
      "cell_type": "markdown",
      "metadata": {
        "id": "ewzps49u4JC8"
      },
      "source": [
        "Import the following libraries:\n",
        "<ul>\n",
        "    <li> <b>numpy as np</b> </li>\n",
        "    <li> <b>DBSCAN</b> from <b>sklearn.cluster</b> </li>\n",
        "    <li> <b>make_blobs</b> from <b>sklearn.datasets.samples_generator</b> </li>\n",
        "    <li> <b>StandardScaler</b> from <b>sklearn.preprocessing</b> </li>\n",
        "    <li> <b>matplotlib.pyplot as plt</b> </li>\n",
        "</ul> <br>\n",
        "Remember <b> %matplotlib inline </b> to display plots"
      ]
    },
    {
      "cell_type": "code",
      "metadata": {
        "id": "0h7NX2GQ4JC-",
        "colab": {
          "base_uri": "https://localhost:8080/"
        },
        "outputId": "9302e476-b4d6-4711-a4b5-f39794a24541"
      },
      "source": [
        "!pip install https://github.com/matplotlib/basemap/archive/master.zip"
      ],
      "execution_count": 1,
      "outputs": [
        {
          "output_type": "stream",
          "text": [
            "Collecting https://github.com/matplotlib/basemap/archive/master.zip\n",
            "  Using cached https://github.com/matplotlib/basemap/archive/master.zip\n",
            "Requirement already satisfied: matplotlib!=3.0.1,>=1.0.0 in /usr/local/lib/python3.7/dist-packages (from basemap==1.2.2+dev) (2.2.2)\n",
            "Requirement already satisfied: numpy>=1.2.1 in /usr/local/lib/python3.7/dist-packages (from basemap==1.2.2+dev) (1.19.5)\n",
            "Requirement already satisfied: pyproj>=1.9.3 in /usr/local/lib/python3.7/dist-packages (from basemap==1.2.2+dev) (1.9.6)\n",
            "Requirement already satisfied: pyshp>=1.2.0 in /usr/lib/python3/dist-packages (from basemap==1.2.2+dev) (1.2.12)\n",
            "Requirement already satisfied: six in /usr/local/lib/python3.7/dist-packages (from basemap==1.2.2+dev) (1.15.0)\n",
            "Requirement already satisfied: pytz in /usr/local/lib/python3.7/dist-packages (from matplotlib!=3.0.1,>=1.0.0->basemap==1.2.2+dev) (2018.9)\n",
            "Requirement already satisfied: python-dateutil>=2.1 in /usr/local/lib/python3.7/dist-packages (from matplotlib!=3.0.1,>=1.0.0->basemap==1.2.2+dev) (2.8.2)\n",
            "Requirement already satisfied: cycler>=0.10 in /usr/local/lib/python3.7/dist-packages (from matplotlib!=3.0.1,>=1.0.0->basemap==1.2.2+dev) (0.10.0)\n",
            "Requirement already satisfied: kiwisolver>=1.0.1 in /usr/local/lib/python3.7/dist-packages (from matplotlib!=3.0.1,>=1.0.0->basemap==1.2.2+dev) (1.3.1)\n",
            "Requirement already satisfied: pyparsing!=2.0.4,!=2.1.2,!=2.1.6,>=2.0.1 in /usr/local/lib/python3.7/dist-packages (from matplotlib!=3.0.1,>=1.0.0->basemap==1.2.2+dev) (2.4.7)\n",
            "Building wheels for collected packages: basemap\n",
            "  Building wheel for basemap (setup.py) ... \u001b[?25l\u001b[?25hdone\n",
            "  Created wheel for basemap: filename=basemap-1.2.2+dev-cp37-cp37m-linux_x86_64.whl size=121759600 sha256=5779c7586dd4f04145ad6be2508e3a1e65b10054cbdc270ff3539b7e94c7f2c6\n",
            "  Stored in directory: /tmp/pip-ephem-wheel-cache-sls_z6aw/wheels/98/1a/9d/de6aa4dee52d726996be77bb4a65cf03865288bfc35e5b24d8\n",
            "Successfully built basemap\n",
            "Installing collected packages: basemap\n",
            "  Attempting uninstall: basemap\n",
            "    Found existing installation: basemap 1.1.0\n",
            "\u001b[31mERROR: Cannot uninstall 'basemap'. It is a distutils installed project and thus we cannot accurately determine which files belong to it which would lead to only a partial uninstall.\u001b[0m\n"
          ],
          "name": "stdout"
        }
      ]
    },
    {
      "cell_type": "code",
      "metadata": {
        "id": "ZpTtNUh54JDF",
        "colab": {
          "base_uri": "https://localhost:8080/"
        },
        "outputId": "28ac1b8a-f948-4c4d-b05a-d7003a1e7b3a"
      },
      "source": [
        "import numpy as np \n",
        "from sklearn.cluster import DBSCAN \n",
        "from sklearn.datasets.samples_generator import make_blobs \n",
        "from sklearn.preprocessing import StandardScaler \n",
        "import matplotlib.pyplot as plt \n",
        "%matplotlib inline"
      ],
      "execution_count": 2,
      "outputs": [
        {
          "output_type": "stream",
          "text": [
            "/usr/local/lib/python3.7/dist-packages/sklearn/utils/deprecation.py:144: FutureWarning: The sklearn.datasets.samples_generator module is  deprecated in version 0.22 and will be removed in version 0.24. The corresponding classes / functions should instead be imported from sklearn.datasets. Anything that cannot be imported from sklearn.datasets is now part of the private API.\n",
            "  warnings.warn(message, FutureWarning)\n"
          ],
          "name": "stderr"
        }
      ]
    },
    {
      "cell_type": "markdown",
      "metadata": {
        "id": "YkIfrFCj4JDH"
      },
      "source": [
        "### Data generation\n",
        "The function below will generate the data points and requires these inputs:\n",
        "<ul>\n",
        "    <li> <b>centroidLocation</b>: Coordinates of the centroids that will generate the random data. </li>\n",
        "    <ul> <li> Example: input: [[4,3], [2,-1], [-1,4]] </li> </ul>\n",
        "    <li> <b>numSamples</b>: The number of data points we want generated, split over the number of centroids (# of centroids defined in centroidLocation) </li>\n",
        "    <ul> <li> Example: 1500 </li> </ul>\n",
        "    <li> <b>clusterDeviation</b>: The standard deviation between the clusters. The larger the number, the further the spacing. </li>\n",
        "    <ul> <li> Example: 0.5 </li> </ul>\n",
        "</ul>"
      ]
    },
    {
      "cell_type": "code",
      "metadata": {
        "id": "eh8IRxdP4JDJ"
      },
      "source": [
        "def createDataPoints(centroidLocation, numSamples, clusterDeviation):\n",
        "    # Create random data and store in feature matrix X and response vector y.\n",
        "    X, y = make_blobs(n_samples=numSamples, centers=centroidLocation, \n",
        "                                cluster_std=clusterDeviation)\n",
        "    \n",
        "    # Standardize features by removing the mean and scaling to unit variance\n",
        "    X = StandardScaler().fit_transform(X)\n",
        "    return X, y"
      ],
      "execution_count": 3,
      "outputs": []
    },
    {
      "cell_type": "markdown",
      "metadata": {
        "id": "zY1-FoD24JDM"
      },
      "source": [
        "Use <b>createDataPoints</b> with the <b>3 inputs</b> and store the output into variables <b>X</b> and <b>y</b>."
      ]
    },
    {
      "cell_type": "code",
      "metadata": {
        "id": "eGPlVUZu4JDN"
      },
      "source": [
        "X, y = createDataPoints([[4,3], [2,-1], [-1,4]] , 1500, 0.5)"
      ],
      "execution_count": 4,
      "outputs": []
    },
    {
      "cell_type": "markdown",
      "metadata": {
        "id": "gqEfIQz44JDQ"
      },
      "source": [
        "### Modeling\n",
        "DBSCAN stands for Density-Based Spatial Clustering of Applications with Noise. This technique is one of the most common clustering algorithms  which works based on density of object.\n",
        "The whole idea is that if a particular point belongs to a cluster, it should be near to lots of other points in that cluster.\n",
        "\n",
        "It works based on two parameters: Epsilon and Minimum Points  \n",
        "__Epsilon__ determine a specified radius that if includes enough number of points within, we call it dense area  \n",
        "__minimumSamples__ determine the minimum number of data points we want in a neighborhood to define a cluster.\n",
        "\n"
      ]
    },
    {
      "cell_type": "code",
      "metadata": {
        "id": "ZHdz88UH4JDR",
        "colab": {
          "base_uri": "https://localhost:8080/"
        },
        "outputId": "95351654-0c71-44e3-a669-68144f59d5bd"
      },
      "source": [
        "epsilon = 0.3\n",
        "minimumSamples = 7\n",
        "db = DBSCAN(eps=epsilon, min_samples=minimumSamples).fit(X)\n",
        "labels = db.labels_\n",
        "labels"
      ],
      "execution_count": 5,
      "outputs": [
        {
          "output_type": "execute_result",
          "data": {
            "text/plain": [
              "array([0, 1, 0, ..., 2, 0, 1])"
            ]
          },
          "metadata": {
            "tags": []
          },
          "execution_count": 5
        }
      ]
    },
    {
      "cell_type": "markdown",
      "metadata": {
        "id": "1aVg6lPh4JDU"
      },
      "source": [
        "### Distinguish outliers\n",
        "Lets Replace all elements with 'True' in core_samples_mask that are in the cluster, 'False' if the points are outliers."
      ]
    },
    {
      "cell_type": "code",
      "metadata": {
        "id": "GS6zKA0w4JDU",
        "colab": {
          "base_uri": "https://localhost:8080/"
        },
        "outputId": "d5b60ce1-c8b9-4dc1-dda4-a6fda3913950"
      },
      "source": [
        "# Firts, create an array of booleans using the labels from db.\n",
        "core_samples_mask = np.zeros_like(db.labels_, dtype=bool)\n",
        "core_samples_mask[db.core_sample_indices_] = True\n",
        "core_samples_mask"
      ],
      "execution_count": 6,
      "outputs": [
        {
          "output_type": "execute_result",
          "data": {
            "text/plain": [
              "array([ True,  True,  True, ...,  True,  True,  True])"
            ]
          },
          "metadata": {
            "tags": []
          },
          "execution_count": 6
        }
      ]
    },
    {
      "cell_type": "code",
      "metadata": {
        "id": "0FkzFgwH4JDX",
        "colab": {
          "base_uri": "https://localhost:8080/"
        },
        "outputId": "9b8fbeff-c853-4c02-9836-286e9a9cd339"
      },
      "source": [
        "# Number of clusters in labels, ignoring noise if present.\n",
        "n_clusters_ = len(set(labels)) - (1 if -1 in labels else 0)\n",
        "n_clusters_"
      ],
      "execution_count": 7,
      "outputs": [
        {
          "output_type": "execute_result",
          "data": {
            "text/plain": [
              "3"
            ]
          },
          "metadata": {
            "tags": []
          },
          "execution_count": 7
        }
      ]
    },
    {
      "cell_type": "code",
      "metadata": {
        "id": "8rAWleUH4JDa",
        "colab": {
          "base_uri": "https://localhost:8080/"
        },
        "outputId": "07cb1146-1b3c-4b49-e29d-235a5048443b"
      },
      "source": [
        "# Remove repetition in labels by turning it into a set.\n",
        "unique_labels = set(labels)\n",
        "unique_labels"
      ],
      "execution_count": 8,
      "outputs": [
        {
          "output_type": "execute_result",
          "data": {
            "text/plain": [
              "{-1, 0, 1, 2}"
            ]
          },
          "metadata": {
            "tags": []
          },
          "execution_count": 8
        }
      ]
    },
    {
      "cell_type": "markdown",
      "metadata": {
        "id": "dhAc8vZ44JDd"
      },
      "source": [
        "### Data visualization"
      ]
    },
    {
      "cell_type": "code",
      "metadata": {
        "id": "t18IWG_x4JDe",
        "colab": {
          "base_uri": "https://localhost:8080/"
        },
        "outputId": "6b281b40-8dbb-4f37-adef-4da793d11fd5"
      },
      "source": [
        "# Create colors for the clusters.\n",
        "colors = plt.cm.Spectral(np.linspace(0, 1, len(unique_labels)))\n",
        "colors"
      ],
      "execution_count": 9,
      "outputs": [
        {
          "output_type": "execute_result",
          "data": {
            "text/plain": [
              "array([[0.61960784, 0.00392157, 0.25882353, 1.        ],\n",
              "       [0.99346405, 0.74771242, 0.43529412, 1.        ],\n",
              "       [0.74771242, 0.89803922, 0.62745098, 1.        ],\n",
              "       [0.36862745, 0.30980392, 0.63529412, 1.        ]])"
            ]
          },
          "metadata": {
            "tags": []
          },
          "execution_count": 9
        }
      ]
    },
    {
      "cell_type": "code",
      "metadata": {
        "scrolled": true,
        "id": "9bUlpfW84JDi",
        "colab": {
          "base_uri": "https://localhost:8080/",
          "height": 268
        },
        "outputId": "e418e895-4ac8-4efd-f1ab-3ac0450acca2"
      },
      "source": [
        "# Plot the points with colors\n",
        "for k, col in zip(unique_labels, colors):\n",
        "    if k == -1:\n",
        "        # Black used for noise.\n",
        "        col = 'k'\n",
        "\n",
        "    class_member_mask = (labels == k)\n",
        "\n",
        "    # Plot the datapoints that are clustered\n",
        "    xy = X[class_member_mask & core_samples_mask]\n",
        "    plt.scatter(xy[:, 0], xy[:, 1],s=50, c=col, marker=u'o', alpha=0.5)\n",
        "\n",
        "    # Plot the outliers\n",
        "    xy = X[class_member_mask & ~core_samples_mask]\n",
        "    plt.scatter(xy[:, 0], xy[:, 1],s=50, c=col, marker=u'o', alpha=0.5)"
      ],
      "execution_count": 10,
      "outputs": [
        {
          "output_type": "display_data",
          "data": {
            "image/png": "[encoded data removed]",
            "text/plain": [
              "<Figure size 432x288 with 1 Axes>"
            ]
          },
          "metadata": {
            "tags": [],
            "needs_background": "light"
          }
        }
      ]
    },
    {
      "cell_type": "markdown",
      "metadata": {
        "id": "hxNC_WYh4JDn"
      },
      "source": [
        "## Practice\n",
        "To better underestand differences between partitional and density-based clusteitng, try to cluster the above dataset into 3 clusters using k-Means.  \n",
        "Notice: do not generate data again, use the same dataset as above."
      ]
    },
    {
      "cell_type": "code",
      "metadata": {
        "id": "5Un4y_N04JDo",
        "colab": {
          "base_uri": "https://localhost:8080/",
          "height": 268
        },
        "outputId": "d236c524-8a41-43fc-917d-c72bc46da520"
      },
      "source": [
        "# write your code here\n",
        "from sklearn.cluster import KMeans \n",
        "k = 3\n",
        "k_means3 = KMeans(init = \"k-means++\", n_clusters = k, n_init = 12)\n",
        "k_means3.fit(X)\n",
        "fig = plt.figure(figsize=(6, 4))\n",
        "ax = fig.add_subplot(1, 1, 1)\n",
        "for k, col in zip(range(k), colors):\n",
        "    my_members = (k_means3.labels_ == k)\n",
        "    plt.scatter(X[my_members, 0], X[my_members, 1],  c=col, marker=u'o', alpha=0.5)\n",
        "plt.show()\n",
        "\n"
      ],
      "execution_count": 11,
      "outputs": [
        {
          "output_type": "display_data",
          "data": {
            "image/png": "[encoded data removed]",
            "text/plain": [
              "<Figure size 432x288 with 1 Axes>"
            ]
          },
          "metadata": {
            "tags": [],
            "needs_background": "light"
          }
        }
      ]
    },
    {
      "cell_type": "markdown",
      "metadata": {
        "id": "_w4J6sw74JDs"
      },
      "source": [
        "Double-click __here__ for the solution.\n",
        "\n",
        "<!-- Your answer is below:\n",
        "\n",
        "\n",
        "from sklearn.cluster import KMeans \n",
        "k = 3\n",
        "k_means3 = KMeans(init = \"k-means++\", n_clusters = k, n_init = 12)\n",
        "k_means3.fit(X)\n",
        "fig = plt.figure(figsize=(6, 4))\n",
        "ax = fig.add_subplot(1, 1, 1)\n",
        "for k, col in zip(range(k), colors):\n",
        "    my_members = (k_means3.labels_ == k)\n",
        "    plt.scatter(X[my_members, 0], X[my_members, 1],  c=col, marker=u'o', alpha=0.5)\n",
        "plt.show()\n",
        "\n",
        "\n",
        "-->"
      ]
    },
    {
      "cell_type": "markdown",
      "metadata": {
        "id": "wUgKkAZr4JDt"
      },
      "source": [
        "\n",
        "\n",
        "\n",
        "<h1 align=center> Weather Station Clustering using DBSCAN & scikit-learn </h1>\n",
        "<hr>\n",
        "\n",
        "DBSCAN is specially very good for tasks like class identification on a spatial context. The wonderful attribute of DBSCAN algorithm is that it can find out any arbitrary shape cluster without getting affected by noise. For example, this following example cluster the location of weather stations in Canada.\n",
        "<Click 1>\n",
        "DBSCAN can be used here, for instance, to find the group of stations which show the same weather condition. As you can see, it not only finds different arbitrary shaped clusters, can find the denser part of data-centered samples by ignoring less-dense areas or noises.\n",
        "\n",
        "let's start playing with the data. We will be working according to the following workflow: </font>\n",
        "1. Loading data\n",
        "- Overview data\n",
        "- Data cleaning\n",
        "- Data selection\n",
        "- Clusteing"
      ]
    },
    {
      "cell_type": "markdown",
      "metadata": {
        "id": "3zkiIhKJ4JDu"
      },
      "source": [
        "### About the dataset\n",
        "\n",
        "\t\t\n",
        "<h4 align = \"center\">\n",
        "Environment Canada    \n",
        "Monthly Values for July - 2015\t\n",
        "</h4>\n",
        "<html>\n",
        "<head>\n",
        "<style>\n",
        "table {\n",
        "    font-family: arial, sans-serif;\n",
        "    border-collapse: collapse;\n",
        "    width: 100%;\n",
        "}\n",
        "\n",
        "td, th {\n",
        "    border: 1px solid #dddddd;\n",
        "    text-align: left;\n",
        "    padding: 8px;\n",
        "}\n",
        "\n",
        "tr:nth-child(even) {\n",
        "    background-color: #dddddd;\n",
        "}\n",
        "</style>\n",
        "</head>\n",
        "<body>\n",
        "\n",
        "<table>\n",
        "  <tr>\n",
        "    <th>Name in the table</th>\n",
        "    <th>Meaning</th>\n",
        "  </tr>\n",
        "  <tr>\n",
        "    <td><font color = \"green\"><strong>Stn_Name</font></td>\n",
        "    <td><font color = \"green\"><strong>Station Name</font</td>\n",
        "  </tr>\n",
        "  <tr>\n",
        "    <td><font color = \"green\"><strong>Lat</font></td>\n",
        "    <td><font color = \"green\"><strong>Latitude (North+, degrees)</font></td>\n",
        "  </tr>\n",
        "  <tr>\n",
        "    <td><font color = \"green\"><strong>Long</font></td>\n",
        "    <td><font color = \"green\"><strong>Longitude (West - , degrees)</font></td>\n",
        "  </tr>\n",
        "  <tr>\n",
        "    <td>Prov</td>\n",
        "    <td>Province</td>\n",
        "  </tr>\n",
        "  <tr>\n",
        "    <td>Tm</td>\n",
        "    <td>Mean Temperature (°C)</td>\n",
        "  </tr>\n",
        "  <tr>\n",
        "    <td>DwTm</td>\n",
        "    <td>Days without Valid Mean Temperature</td>\n",
        "  </tr>\n",
        "  <tr>\n",
        "    <td>D</td>\n",
        "    <td>Mean Temperature difference from Normal (1981-2010) (°C)</td>\n",
        "  </tr>\n",
        "  <tr>\n",
        "    <td><font color = \"black\">Tx</font></td>\n",
        "    <td><font color = \"black\">Highest Monthly Maximum Temperature (°C)</font></td>\n",
        "  </tr>\n",
        "  <tr>\n",
        "    <td>DwTx</td>\n",
        "    <td>Days without Valid Maximum Temperature</td>\n",
        "  </tr>\n",
        "  <tr>\n",
        "    <td><font color = \"black\">Tn</font></td>\n",
        "    <td><font color = \"black\">Lowest Monthly Minimum Temperature (°C)</font></td>\n",
        "  </tr>\n",
        "  <tr>\n",
        "    <td>DwTn</td>\n",
        "    <td>Days without Valid Minimum Temperature</td>\n",
        "  </tr>\n",
        "  <tr>\n",
        "    <td>S</td>\n",
        "    <td>Snowfall (cm)</td>\n",
        "  </tr>\n",
        "  <tr>\n",
        "    <td>DwS</td>\n",
        "    <td>Days without Valid Snowfall</td>\n",
        "  </tr>\n",
        "  <tr>\n",
        "    <td>S%N</td>\n",
        "    <td>Percent of Normal (1981-2010) Snowfall</td>\n",
        "  </tr>\n",
        "  <tr>\n",
        "    <td><font color = \"green\"><strong>P</font></td>\n",
        "    <td><font color = \"green\"><strong>Total Precipitation (mm)</font></td>\n",
        "  </tr>\n",
        "  <tr>\n",
        "    <td>DwP</td>\n",
        "    <td>Days without Valid Precipitation</td>\n",
        "  </tr>\n",
        "  <tr>\n",
        "    <td>P%N</td>\n",
        "    <td>Percent of Normal (1981-2010) Precipitation</td>\n",
        "  </tr>\n",
        "  <tr>\n",
        "    <td>S_G</td>\n",
        "    <td>Snow on the ground at the end of the month (cm)</td>\n",
        "  </tr>\n",
        "  <tr>\n",
        "    <td>Pd</td>\n",
        "    <td>Number of days with Precipitation 1.0 mm or more</td>\n",
        "  </tr>\n",
        "  <tr>\n",
        "    <td>BS</td>\n",
        "    <td>Bright Sunshine (hours)</td>\n",
        "  </tr>\n",
        "  <tr>\n",
        "    <td>DwBS</td>\n",
        "    <td>Days without Valid Bright Sunshine</td>\n",
        "  </tr>\n",
        "  <tr>\n",
        "    <td>BS%</td>\n",
        "    <td>Percent of Normal (1981-2010) Bright Sunshine</td>\n",
        "  </tr>\n",
        "  <tr>\n",
        "    <td>HDD</td>\n",
        "    <td>Degree Days below 18 °C</td>\n",
        "  </tr>\n",
        "  <tr>\n",
        "    <td>CDD</td>\n",
        "    <td>Degree Days above 18 °C</td>\n",
        "  </tr>\n",
        "  <tr>\n",
        "    <td>Stn_No</td>\n",
        "    <td>Climate station identifier (first 3 digits indicate   drainage basin, last 4 characters are for sorting alphabetically).</td>\n",
        "  </tr>\n",
        "  <tr>\n",
        "    <td>NA</td>\n",
        "    <td>Not Available</td>\n",
        "  </tr>\n",
        "\n",
        "\n",
        "</table>\n",
        "\n",
        "</body>\n",
        "</html>\n",
        "\n",
        " "
      ]
    },
    {
      "cell_type": "markdown",
      "metadata": {
        "id": "Evx3_TpG4JDu"
      },
      "source": [
        "### 1-Download data\n",
        "To download the data, we will use **`!wget`**. To download the data, we will use `!wget` to download it from IBM Object Storage.  \n",
        "__Did you know?__ When it comes to Machine Learning, you will likely be working with large datasets. As a business, where can you host your data? IBM is offering a unique opportunity for businesses, with 10 Tb of IBM Cloud Object Storage: [Sign up now for free](http://cocl.us/ML0101EN-IBM-Offer-CC)"
      ]
    },
    {
      "cell_type": "code",
      "metadata": {
        "id": "EOWeo8874JDw",
        "colab": {
          "base_uri": "https://localhost:8080/"
        },
        "outputId": "d8e8c86f-c1b5-4dde-c0b0-3d31d52fb859"
      },
      "source": [
        "!wget -O weather-stations20140101-20141231.csv https://s3-api.us-geo.objectstorage.softlayer.net/cf-courses-data/CognitiveClass/ML0101ENv3/labs/weather-stations20140101-20141231.csv"
      ],
      "execution_count": 12,
      "outputs": [
        {
          "output_type": "stream",
          "text": [
            "--2021-08-17 14:58:45--  https://s3-api.us-geo.objectstorage.softlayer.net/cf-courses-data/CognitiveClass/ML0101ENv3/labs/weather-stations20140101-20141231.csv\n",
            "Resolving s3-api.us-geo.objectstorage.softlayer.net (s3-api.us-geo.objectstorage.softlayer.net)... 67.228.254.196\n",
            "Connecting to s3-api.us-geo.objectstorage.softlayer.net (s3-api.us-geo.objectstorage.softlayer.net)|67.228.254.196|:443... connected.\n",
            "HTTP request sent, awaiting response... 200 OK\n",
            "Length: 129821 (127K) [text/csv]\n",
            "Saving to: ‘weather-stations20140101-20141231.csv’\n",
            "\n",
            "\r          weather-s   0%[                    ]       0  --.-KB/s               \rweather-stations201 100%[===================>] 126.78K  --.-KB/s    in 0.003s  \n",
            "\n",
            "2021-08-17 14:58:46 (39.5 MB/s) - ‘weather-stations20140101-20141231.csv’ saved [129821/129821]\n",
            "\n"
          ],
          "name": "stdout"
        }
      ]
    },
    {
      "cell_type": "markdown",
      "metadata": {
        "id": "TQXab7tH4JDz"
      },
      "source": [
        "### 2- Load the dataset\n",
        "We will import the .csv then we creates the columns for year, month and day."
      ]
    },
    {
      "cell_type": "code",
      "metadata": {
        "id": "6yC5tmjj4JD0",
        "colab": {
          "base_uri": "https://localhost:8080/",
          "height": 232
        },
        "outputId": "cb58d328-a244-47fe-a162-a85091442bf4"
      },
      "source": [
        "import csv\n",
        "import pandas as pd\n",
        "import numpy as np\n",
        "\n",
        "filename='weather-stations20140101-20141231.csv'\n",
        "\n",
        "#Read csv\n",
        "pdf = pd.read_csv(filename)\n",
        "pdf.head(5)"
      ],
      "execution_count": 13,
      "outputs": [
        {
          "output_type": "execute_result",
          "data": {
            "text/html": [
              "<div>\n",
              "<style scoped>\n",
              "    .dataframe tbody tr th:only-of-type {\n",
              "        vertical-align: middle;\n",
              "    }\n",
              "\n",
              "    .dataframe tbody tr th {\n",
              "        vertical-align: top;\n",
              "    }\n",
              "\n",
              "    .dataframe thead th {\n",
              "        text-align: right;\n",
              "    }\n",
              "</style>\n",
              "<table border=\"1\" class=\"dataframe\">\n",
              "  <thead>\n",
              "    <tr style=\"text-align: right;\">\n",
              "      <th></th>\n",
              "      <th>Stn_Name</th>\n",
              "      <th>Lat</th>\n",
              "      <th>Long</th>\n",
              "      <th>Prov</th>\n",
              "      <th>Tm</th>\n",
              "      <th>DwTm</th>\n",
              "      <th>D</th>\n",
              "      <th>Tx</th>\n",
              "      <th>DwTx</th>\n",
              "      <th>Tn</th>\n",
              "      <th>DwTn</th>\n",
              "      <th>S</th>\n",
              "      <th>DwS</th>\n",
              "      <th>S%N</th>\n",
              "      <th>P</th>\n",
              "      <th>DwP</th>\n",
              "      <th>P%N</th>\n",
              "      <th>S_G</th>\n",
              "      <th>Pd</th>\n",
              "      <th>BS</th>\n",
              "      <th>DwBS</th>\n",
              "      <th>BS%</th>\n",
              "      <th>HDD</th>\n",
              "      <th>CDD</th>\n",
              "      <th>Stn_No</th>\n",
              "    </tr>\n",
              "  </thead>\n",
              "  <tbody>\n",
              "    <tr>\n",
              "      <th>0</th>\n",
              "      <td>CHEMAINUS</td>\n",
              "      <td>48.935</td>\n",
              "      <td>-123.742</td>\n",
              "      <td>BC</td>\n",
              "      <td>8.2</td>\n",
              "      <td>0.0</td>\n",
              "      <td>NaN</td>\n",
              "      <td>13.5</td>\n",
              "      <td>0.0</td>\n",
              "      <td>1.0</td>\n",
              "      <td>0.0</td>\n",
              "      <td>0.0</td>\n",
              "      <td>0.0</td>\n",
              "      <td>NaN</td>\n",
              "      <td>178.8</td>\n",
              "      <td>0.0</td>\n",
              "      <td>NaN</td>\n",
              "      <td>0.0</td>\n",
              "      <td>12.0</td>\n",
              "      <td>NaN</td>\n",
              "      <td>NaN</td>\n",
              "      <td>NaN</td>\n",
              "      <td>273.3</td>\n",
              "      <td>0.0</td>\n",
              "      <td>1011500</td>\n",
              "    </tr>\n",
              "    <tr>\n",
              "      <th>1</th>\n",
              "      <td>COWICHAN LAKE FORESTRY</td>\n",
              "      <td>48.824</td>\n",
              "      <td>-124.133</td>\n",
              "      <td>BC</td>\n",
              "      <td>7.0</td>\n",
              "      <td>0.0</td>\n",
              "      <td>3.0</td>\n",
              "      <td>15.0</td>\n",
              "      <td>0.0</td>\n",
              "      <td>-3.0</td>\n",
              "      <td>0.0</td>\n",
              "      <td>0.0</td>\n",
              "      <td>0.0</td>\n",
              "      <td>0.0</td>\n",
              "      <td>258.6</td>\n",
              "      <td>0.0</td>\n",
              "      <td>104.0</td>\n",
              "      <td>0.0</td>\n",
              "      <td>12.0</td>\n",
              "      <td>NaN</td>\n",
              "      <td>NaN</td>\n",
              "      <td>NaN</td>\n",
              "      <td>307.0</td>\n",
              "      <td>0.0</td>\n",
              "      <td>1012040</td>\n",
              "    </tr>\n",
              "    <tr>\n",
              "      <th>2</th>\n",
              "      <td>LAKE COWICHAN</td>\n",
              "      <td>48.829</td>\n",
              "      <td>-124.052</td>\n",
              "      <td>BC</td>\n",
              "      <td>6.8</td>\n",
              "      <td>13.0</td>\n",
              "      <td>2.8</td>\n",
              "      <td>16.0</td>\n",
              "      <td>9.0</td>\n",
              "      <td>-2.5</td>\n",
              "      <td>9.0</td>\n",
              "      <td>0.0</td>\n",
              "      <td>9.0</td>\n",
              "      <td>NaN</td>\n",
              "      <td>264.6</td>\n",
              "      <td>9.0</td>\n",
              "      <td>NaN</td>\n",
              "      <td>NaN</td>\n",
              "      <td>11.0</td>\n",
              "      <td>NaN</td>\n",
              "      <td>NaN</td>\n",
              "      <td>NaN</td>\n",
              "      <td>168.1</td>\n",
              "      <td>0.0</td>\n",
              "      <td>1012055</td>\n",
              "    </tr>\n",
              "    <tr>\n",
              "      <th>3</th>\n",
              "      <td>DISCOVERY ISLAND</td>\n",
              "      <td>48.425</td>\n",
              "      <td>-123.226</td>\n",
              "      <td>BC</td>\n",
              "      <td>NaN</td>\n",
              "      <td>NaN</td>\n",
              "      <td>NaN</td>\n",
              "      <td>12.5</td>\n",
              "      <td>0.0</td>\n",
              "      <td>NaN</td>\n",
              "      <td>NaN</td>\n",
              "      <td>NaN</td>\n",
              "      <td>NaN</td>\n",
              "      <td>NaN</td>\n",
              "      <td>NaN</td>\n",
              "      <td>NaN</td>\n",
              "      <td>NaN</td>\n",
              "      <td>NaN</td>\n",
              "      <td>NaN</td>\n",
              "      <td>NaN</td>\n",
              "      <td>NaN</td>\n",
              "      <td>NaN</td>\n",
              "      <td>NaN</td>\n",
              "      <td>NaN</td>\n",
              "      <td>1012475</td>\n",
              "    </tr>\n",
              "    <tr>\n",
              "      <th>4</th>\n",
              "      <td>DUNCAN KELVIN CREEK</td>\n",
              "      <td>48.735</td>\n",
              "      <td>-123.728</td>\n",
              "      <td>BC</td>\n",
              "      <td>7.7</td>\n",
              "      <td>2.0</td>\n",
              "      <td>3.4</td>\n",
              "      <td>14.5</td>\n",
              "      <td>2.0</td>\n",
              "      <td>-1.0</td>\n",
              "      <td>2.0</td>\n",
              "      <td>0.0</td>\n",
              "      <td>2.0</td>\n",
              "      <td>NaN</td>\n",
              "      <td>168.4</td>\n",
              "      <td>2.0</td>\n",
              "      <td>NaN</td>\n",
              "      <td>NaN</td>\n",
              "      <td>11.0</td>\n",
              "      <td>NaN</td>\n",
              "      <td>NaN</td>\n",
              "      <td>NaN</td>\n",
              "      <td>267.7</td>\n",
              "      <td>0.0</td>\n",
              "      <td>1012573</td>\n",
              "    </tr>\n",
              "  </tbody>\n",
              "</table>\n",
              "</div>"
            ],
            "text/plain": [
              "                 Stn_Name     Lat     Long Prov  ...  BS%    HDD  CDD   Stn_No\n",
              "0               CHEMAINUS  48.935 -123.742   BC  ...  NaN  273.3  0.0  1011500\n",
              "1  COWICHAN LAKE FORESTRY  48.824 -124.133   BC  ...  NaN  307.0  0.0  1012040\n",
              "2           LAKE COWICHAN  48.829 -124.052   BC  ...  NaN  168.1  0.0  1012055\n",
              "3        DISCOVERY ISLAND  48.425 -123.226   BC  ...  NaN    NaN  NaN  1012475\n",
              "4     DUNCAN KELVIN CREEK  48.735 -123.728   BC  ...  NaN  267.7  0.0  1012573\n",
              "\n",
              "[5 rows x 25 columns]"
            ]
          },
          "metadata": {
            "tags": []
          },
          "execution_count": 13
        }
      ]
    },
    {
      "cell_type": "markdown",
      "metadata": {
        "id": "_n5UlGv94JD4"
      },
      "source": [
        "### 3-Cleaning\n",
        "Lets remove rows that dont have any value in the __Tm__ field."
      ]
    },
    {
      "cell_type": "code",
      "metadata": {
        "id": "GhKsVN3L4JD5",
        "colab": {
          "base_uri": "https://localhost:8080/",
          "height": 216
        },
        "outputId": "48145935-8274-4eed-abd6-4776456a3119"
      },
      "source": [
        "pdf = pdf[pd.notnull(pdf[\"Tm\"])]\n",
        "pdf = pdf.reset_index(drop=True)\n",
        "pdf.head(5)"
      ],
      "execution_count": 14,
      "outputs": [
        {
          "output_type": "execute_result",
          "data": {
            "text/html": [
              "<div>\n",
              "<style scoped>\n",
              "    .dataframe tbody tr th:only-of-type {\n",
              "        vertical-align: middle;\n",
              "    }\n",
              "\n",
              "    .dataframe tbody tr th {\n",
              "        vertical-align: top;\n",
              "    }\n",
              "\n",
              "    .dataframe thead th {\n",
              "        text-align: right;\n",
              "    }\n",
              "</style>\n",
              "<table border=\"1\" class=\"dataframe\">\n",
              "  <thead>\n",
              "    <tr style=\"text-align: right;\">\n",
              "      <th></th>\n",
              "      <th>Stn_Name</th>\n",
              "      <th>Lat</th>\n",
              "      <th>Long</th>\n",
              "      <th>Prov</th>\n",
              "      <th>Tm</th>\n",
              "      <th>DwTm</th>\n",
              "      <th>D</th>\n",
              "      <th>Tx</th>\n",
              "      <th>DwTx</th>\n",
              "      <th>Tn</th>\n",
              "      <th>DwTn</th>\n",
              "      <th>S</th>\n",
              "      <th>DwS</th>\n",
              "      <th>S%N</th>\n",
              "      <th>P</th>\n",
              "      <th>DwP</th>\n",
              "      <th>P%N</th>\n",
              "      <th>S_G</th>\n",
              "      <th>Pd</th>\n",
              "      <th>BS</th>\n",
              "      <th>DwBS</th>\n",
              "      <th>BS%</th>\n",
              "      <th>HDD</th>\n",
              "      <th>CDD</th>\n",
              "      <th>Stn_No</th>\n",
              "    </tr>\n",
              "  </thead>\n",
              "  <tbody>\n",
              "    <tr>\n",
              "      <th>0</th>\n",
              "      <td>CHEMAINUS</td>\n",
              "      <td>48.935</td>\n",
              "      <td>-123.742</td>\n",
              "      <td>BC</td>\n",
              "      <td>8.2</td>\n",
              "      <td>0.0</td>\n",
              "      <td>NaN</td>\n",
              "      <td>13.5</td>\n",
              "      <td>0.0</td>\n",
              "      <td>1.0</td>\n",
              "      <td>0.0</td>\n",
              "      <td>0.0</td>\n",
              "      <td>0.0</td>\n",
              "      <td>NaN</td>\n",
              "      <td>178.8</td>\n",
              "      <td>0.0</td>\n",
              "      <td>NaN</td>\n",
              "      <td>0.0</td>\n",
              "      <td>12.0</td>\n",
              "      <td>NaN</td>\n",
              "      <td>NaN</td>\n",
              "      <td>NaN</td>\n",
              "      <td>273.3</td>\n",
              "      <td>0.0</td>\n",
              "      <td>1011500</td>\n",
              "    </tr>\n",
              "    <tr>\n",
              "      <th>1</th>\n",
              "      <td>COWICHAN LAKE FORESTRY</td>\n",
              "      <td>48.824</td>\n",
              "      <td>-124.133</td>\n",
              "      <td>BC</td>\n",
              "      <td>7.0</td>\n",
              "      <td>0.0</td>\n",
              "      <td>3.0</td>\n",
              "      <td>15.0</td>\n",
              "      <td>0.0</td>\n",
              "      <td>-3.0</td>\n",
              "      <td>0.0</td>\n",
              "      <td>0.0</td>\n",
              "      <td>0.0</td>\n",
              "      <td>0.0</td>\n",
              "      <td>258.6</td>\n",
              "      <td>0.0</td>\n",
              "      <td>104.0</td>\n",
              "      <td>0.0</td>\n",
              "      <td>12.0</td>\n",
              "      <td>NaN</td>\n",
              "      <td>NaN</td>\n",
              "      <td>NaN</td>\n",
              "      <td>307.0</td>\n",
              "      <td>0.0</td>\n",
              "      <td>1012040</td>\n",
              "    </tr>\n",
              "    <tr>\n",
              "      <th>2</th>\n",
              "      <td>LAKE COWICHAN</td>\n",
              "      <td>48.829</td>\n",
              "      <td>-124.052</td>\n",
              "      <td>BC</td>\n",
              "      <td>6.8</td>\n",
              "      <td>13.0</td>\n",
              "      <td>2.8</td>\n",
              "      <td>16.0</td>\n",
              "      <td>9.0</td>\n",
              "      <td>-2.5</td>\n",
              "      <td>9.0</td>\n",
              "      <td>0.0</td>\n",
              "      <td>9.0</td>\n",
              "      <td>NaN</td>\n",
              "      <td>264.6</td>\n",
              "      <td>9.0</td>\n",
              "      <td>NaN</td>\n",
              "      <td>NaN</td>\n",
              "      <td>11.0</td>\n",
              "      <td>NaN</td>\n",
              "      <td>NaN</td>\n",
              "      <td>NaN</td>\n",
              "      <td>168.1</td>\n",
              "      <td>0.0</td>\n",
              "      <td>1012055</td>\n",
              "    </tr>\n",
              "    <tr>\n",
              "      <th>3</th>\n",
              "      <td>DUNCAN KELVIN CREEK</td>\n",
              "      <td>48.735</td>\n",
              "      <td>-123.728</td>\n",
              "      <td>BC</td>\n",
              "      <td>7.7</td>\n",
              "      <td>2.0</td>\n",
              "      <td>3.4</td>\n",
              "      <td>14.5</td>\n",
              "      <td>2.0</td>\n",
              "      <td>-1.0</td>\n",
              "      <td>2.0</td>\n",
              "      <td>0.0</td>\n",
              "      <td>2.0</td>\n",
              "      <td>NaN</td>\n",
              "      <td>168.4</td>\n",
              "      <td>2.0</td>\n",
              "      <td>NaN</td>\n",
              "      <td>NaN</td>\n",
              "      <td>11.0</td>\n",
              "      <td>NaN</td>\n",
              "      <td>NaN</td>\n",
              "      <td>NaN</td>\n",
              "      <td>267.7</td>\n",
              "      <td>0.0</td>\n",
              "      <td>1012573</td>\n",
              "    </tr>\n",
              "    <tr>\n",
              "      <th>4</th>\n",
              "      <td>ESQUIMALT HARBOUR</td>\n",
              "      <td>48.432</td>\n",
              "      <td>-123.439</td>\n",
              "      <td>BC</td>\n",
              "      <td>8.8</td>\n",
              "      <td>0.0</td>\n",
              "      <td>NaN</td>\n",
              "      <td>13.1</td>\n",
              "      <td>0.0</td>\n",
              "      <td>1.9</td>\n",
              "      <td>0.0</td>\n",
              "      <td>NaN</td>\n",
              "      <td>NaN</td>\n",
              "      <td>NaN</td>\n",
              "      <td>81.0</td>\n",
              "      <td>8.0</td>\n",
              "      <td>NaN</td>\n",
              "      <td>NaN</td>\n",
              "      <td>12.0</td>\n",
              "      <td>NaN</td>\n",
              "      <td>NaN</td>\n",
              "      <td>NaN</td>\n",
              "      <td>258.6</td>\n",
              "      <td>0.0</td>\n",
              "      <td>1012710</td>\n",
              "    </tr>\n",
              "  </tbody>\n",
              "</table>\n",
              "</div>"
            ],
            "text/plain": [
              "                 Stn_Name     Lat     Long Prov  ...  BS%    HDD  CDD   Stn_No\n",
              "0               CHEMAINUS  48.935 -123.742   BC  ...  NaN  273.3  0.0  1011500\n",
              "1  COWICHAN LAKE FORESTRY  48.824 -124.133   BC  ...  NaN  307.0  0.0  1012040\n",
              "2           LAKE COWICHAN  48.829 -124.052   BC  ...  NaN  168.1  0.0  1012055\n",
              "3     DUNCAN KELVIN CREEK  48.735 -123.728   BC  ...  NaN  267.7  0.0  1012573\n",
              "4       ESQUIMALT HARBOUR  48.432 -123.439   BC  ...  NaN  258.6  0.0  1012710\n",
              "\n",
              "[5 rows x 25 columns]"
            ]
          },
          "metadata": {
            "tags": []
          },
          "execution_count": 14
        }
      ]
    },
    {
      "cell_type": "markdown",
      "metadata": {
        "id": "cnfWeFEe4JD9"
      },
      "source": [
        "### 4-Visualization\n",
        "Visualization of stations on map using basemap package. The matplotlib basemap toolkit is a library for plotting 2D data on maps in Python. Basemap does not do any plotting on it’s own, but provides the facilities to transform coordinates to a map projections. \n",
        "\n",
        "Please notice that the size of each data points represents the average of maximum temperature for each station in a year. "
      ]
    },
    {
      "cell_type": "code",
      "metadata": {
        "id": "5voyoICu4JD_",
        "colab": {
          "base_uri": "https://localhost:8080/",
          "height": 467
        },
        "outputId": "3b048462-0878-4b6d-99af-736699d089b3"
      },
      "source": [
        "from mpl_toolkits.basemap import Basemap\n",
        "import matplotlib.pyplot as plt\n",
        "from pylab import rcParams\n",
        "%matplotlib inline\n",
        "rcParams['figure.figsize'] = (14,10)\n",
        "\n",
        "llon=-140\n",
        "ulon=-50\n",
        "llat=40\n",
        "ulat=65\n",
        "\n",
        "pdf = pdf[(pdf['Long'] > llon) & (pdf['Long'] < ulon) & (pdf['Lat'] > llat) &(pdf['Lat'] < ulat)]\n",
        "\n",
        "my_map = Basemap(projection='merc',\n",
        "            resolution = 'l', area_thresh = 1000.0,\n",
        "            llcrnrlon=llon, llcrnrlat=llat, #min longitude (llcrnrlon) and latitude (llcrnrlat)\n",
        "            urcrnrlon=ulon, urcrnrlat=ulat) #max longitude (urcrnrlon) and latitude (urcrnrlat)\n",
        "\n",
        "my_map.drawcoastlines()\n",
        "my_map.drawcountries()\n",
        "# my_map.drawmapboundary()\n",
        "my_map.fillcontinents(color = 'white', alpha = 0.3)\n",
        "my_map.shadedrelief()\n",
        "\n",
        "# To collect data based on stations        \n",
        "\n",
        "xs,ys = my_map(np.asarray(pdf.Long), np.asarray(pdf.Lat))\n",
        "pdf['xm']= xs.tolist()\n",
        "pdf['ym'] =ys.tolist()\n",
        "\n",
        "#Visualization1\n",
        "for index,row in pdf.iterrows():\n",
        "#   x,y = my_map(row.Long, row.Lat)\n",
        "   my_map.plot(row.xm, row.ym,markerfacecolor =([1,0,0]),  marker='o', markersize= 5, alpha = 0.75)\n",
        "#plt.text(x,y,stn)\n",
        "plt.show()\n",
        "\n"
      ],
      "execution_count": 15,
      "outputs": [
        {
          "output_type": "error",
          "ename": "ModuleNotFoundError",
          "evalue": "ignored",
          "traceback": [
            "\u001b[0;31m---------------------------------------------------------------------------\u001b[0m",
            "\u001b[0;31mModuleNotFoundError\u001b[0m                       Traceback (most recent call last)",
            "\u001b[0;32m<ipython-input-15-9a0818377016>\u001b[0m in \u001b[0;36m<module>\u001b[0;34m()\u001b[0m\n\u001b[0;32m----> 1\u001b[0;31m \u001b[0;32mfrom\u001b[0m \u001b[0mmpl_toolkits\u001b[0m\u001b[0;34m.\u001b[0m\u001b[0mbasemap\u001b[0m \u001b[0;32mimport\u001b[0m \u001b[0mBasemap\u001b[0m\u001b[0;34m\u001b[0m\u001b[0;34m\u001b[0m\u001b[0m\n\u001b[0m\u001b[1;32m      2\u001b[0m \u001b[0;32mimport\u001b[0m \u001b[0mmatplotlib\u001b[0m\u001b[0;34m.\u001b[0m\u001b[0mpyplot\u001b[0m \u001b[0;32mas\u001b[0m \u001b[0mplt\u001b[0m\u001b[0;34m\u001b[0m\u001b[0;34m\u001b[0m\u001b[0m\n\u001b[1;32m      3\u001b[0m \u001b[0;32mfrom\u001b[0m \u001b[0mpylab\u001b[0m \u001b[0;32mimport\u001b[0m \u001b[0mrcParams\u001b[0m\u001b[0;34m\u001b[0m\u001b[0;34m\u001b[0m\u001b[0m\n\u001b[1;32m      4\u001b[0m \u001b[0mget_ipython\u001b[0m\u001b[0;34m(\u001b[0m\u001b[0;34m)\u001b[0m\u001b[0;34m.\u001b[0m\u001b[0mmagic\u001b[0m\u001b[0;34m(\u001b[0m\u001b[0;34m'matplotlib inline'\u001b[0m\u001b[0;34m)\u001b[0m\u001b[0;34m\u001b[0m\u001b[0;34m\u001b[0m\u001b[0m\n\u001b[1;32m      5\u001b[0m \u001b[0mrcParams\u001b[0m\u001b[0;34m[\u001b[0m\u001b[0;34m'figure.figsize'\u001b[0m\u001b[0;34m]\u001b[0m \u001b[0;34m=\u001b[0m \u001b[0;34m(\u001b[0m\u001b[0;36m14\u001b[0m\u001b[0;34m,\u001b[0m\u001b[0;36m10\u001b[0m\u001b[0;34m)\u001b[0m\u001b[0;34m\u001b[0m\u001b[0;34m\u001b[0m\u001b[0m\n",
            "\u001b[0;32m/usr/lib/python3/dist-packages/mpl_toolkits/basemap/__init__.py\u001b[0m in \u001b[0;36m<module>\u001b[0;34m()\u001b[0m\n\u001b[1;32m     37\u001b[0m \u001b[0;32mimport\u001b[0m \u001b[0mnumpy\u001b[0m \u001b[0;32mas\u001b[0m \u001b[0mnp\u001b[0m\u001b[0;34m\u001b[0m\u001b[0;34m\u001b[0m\u001b[0m\n\u001b[1;32m     38\u001b[0m \u001b[0;32mimport\u001b[0m \u001b[0mnumpy\u001b[0m\u001b[0;34m.\u001b[0m\u001b[0mma\u001b[0m \u001b[0;32mas\u001b[0m \u001b[0mma\u001b[0m\u001b[0;34m\u001b[0m\u001b[0;34m\u001b[0m\u001b[0m\n\u001b[0;32m---> 39\u001b[0;31m \u001b[0;32mimport\u001b[0m \u001b[0m_geoslib\u001b[0m\u001b[0;34m\u001b[0m\u001b[0;34m\u001b[0m\u001b[0m\n\u001b[0m\u001b[1;32m     40\u001b[0m \u001b[0;32mimport\u001b[0m \u001b[0mfunctools\u001b[0m\u001b[0;34m\u001b[0m\u001b[0;34m\u001b[0m\u001b[0m\n\u001b[1;32m     41\u001b[0m \u001b[0;34m\u001b[0m\u001b[0m\n",
            "\u001b[0;31mModuleNotFoundError\u001b[0m: No module named '_geoslib'",
            "",
            "\u001b[0;31m---------------------------------------------------------------------------\u001b[0;32m\nNOTE: If your import is failing due to a missing package, you can\nmanually install dependencies using either !pip or !apt.\n\nTo view examples of installing some common dependencies, click the\n\"Open Examples\" button below.\n\u001b[0;31m---------------------------------------------------------------------------\u001b[0m\n"
          ],
          "errorDetails": {
            "actions": [
              {
                "action": "open_url",
                "actionText": "Open Examples",
                "url": "/notebooks/snippets/importing_libraries.ipynb"
              }
            ]
          }
        }
      ]
    },
    {
      "cell_type": "markdown",
      "metadata": {
        "id": "PQadGVJ34JEB"
      },
      "source": [
        "### 5- Clustering of stations based on their location i.e. Lat & Lon\n",
        "\n",
        "__DBSCAN__ form sklearn library can runs DBSCAN clustering from vector array or distance matrix. In our case, we pass it the Numpy array Clus_dataSet to find core samples of high density and expands clusters from them. "
      ]
    },
    {
      "cell_type": "code",
      "metadata": {
        "id": "aRmL-Nio4JED"
      },
      "source": [
        "from sklearn.cluster import DBSCAN\n",
        "import sklearn.utils\n",
        "from sklearn.preprocessing import StandardScaler\n",
        "sklearn.utils.check_random_state(1000)\n",
        "Clus_dataSet = pdf[['xm','ym']]\n",
        "Clus_dataSet = np.nan_to_num(Clus_dataSet)\n",
        "Clus_dataSet = StandardScaler().fit_transform(Clus_dataSet)\n",
        "\n",
        "# Compute DBSCAN\n",
        "db = DBSCAN(eps=0.15, min_samples=10).fit(Clus_dataSet)\n",
        "core_samples_mask = np.zeros_like(db.labels_, dtype=bool)\n",
        "core_samples_mask[db.core_sample_indices_] = True\n",
        "labels = db.labels_\n",
        "pdf[\"Clus_Db\"]=labels\n",
        "\n",
        "realClusterNum=len(set(labels)) - (1 if -1 in labels else 0)\n",
        "clusterNum = len(set(labels)) \n",
        "\n",
        "\n",
        "# A sample of clusters\n",
        "pdf[[\"Stn_Name\",\"Tx\",\"Tm\",\"Clus_Db\"]].head(5)"
      ],
      "execution_count": null,
      "outputs": []
    },
    {
      "cell_type": "markdown",
      "metadata": {
        "id": "LYBikw8H4JEF"
      },
      "source": [
        "As you can see for outliers, the cluster label is -1"
      ]
    },
    {
      "cell_type": "code",
      "metadata": {
        "id": "z9n9PUq74JEG"
      },
      "source": [
        "set(labels)"
      ],
      "execution_count": null,
      "outputs": []
    },
    {
      "cell_type": "markdown",
      "metadata": {
        "id": "2Q_53D864JEJ"
      },
      "source": [
        "### 6- Visualization of clusters based on location\n",
        "Now, we can visualize the clusters using basemap:"
      ]
    },
    {
      "cell_type": "code",
      "metadata": {
        "id": "2ITBtQ3o4JEJ"
      },
      "source": [
        "from mpl_toolkits.basemap import Basemap\n",
        "import matplotlib.pyplot as plt\n",
        "from pylab import rcParams\n",
        "%matplotlib inline\n",
        "rcParams['figure.figsize'] = (14,10)\n",
        "\n",
        "my_map = Basemap(projection='merc',\n",
        "            resolution = 'l', area_thresh = 1000.0,\n",
        "            llcrnrlon=llon, llcrnrlat=llat, #min longitude (llcrnrlon) and latitude (llcrnrlat)\n",
        "            urcrnrlon=ulon, urcrnrlat=ulat) #max longitude (urcrnrlon) and latitude (urcrnrlat)\n",
        "\n",
        "my_map.drawcoastlines()\n",
        "my_map.drawcountries()\n",
        "#my_map.drawmapboundary()\n",
        "my_map.fillcontinents(color = 'white', alpha = 0.3)\n",
        "my_map.shadedrelief()\n",
        "\n",
        "# To create a color map\n",
        "colors = plt.get_cmap('jet')(np.linspace(0.0, 1.0, clusterNum))\n",
        "\n",
        "\n",
        "\n",
        "#Visualization1\n",
        "for clust_number in set(labels):\n",
        "    c=(([0.4,0.4,0.4]) if clust_number == -1 else colors[np.int(clust_number)])\n",
        "    clust_set = pdf[pdf.Clus_Db == clust_number]                    \n",
        "    my_map.scatter(clust_set.xm, clust_set.ym, color =c,  marker='o', s= 20, alpha = 0.85)\n",
        "    if clust_number != -1:\n",
        "        cenx=np.mean(clust_set.xm) \n",
        "        ceny=np.mean(clust_set.ym) \n",
        "        plt.text(cenx,ceny,str(clust_number), fontsize=25, color='red',)\n",
        "        print (\"Cluster \"+str(clust_number)+', Avg Temp: '+ str(np.mean(clust_set.Tm)))"
      ],
      "execution_count": null,
      "outputs": []
    },
    {
      "cell_type": "markdown",
      "metadata": {
        "id": "IHT0t7a44JEN"
      },
      "source": [
        "### 7- Clustering of stations based on their location, mean, max, and min Temperature\n",
        "In this section we re-run DBSCAN, but this time on a 5-dimensional dataset:"
      ]
    },
    {
      "cell_type": "code",
      "metadata": {
        "scrolled": true,
        "id": "t_Q6GAwY4JEN"
      },
      "source": [
        "from sklearn.cluster import DBSCAN\n",
        "import sklearn.utils\n",
        "from sklearn.preprocessing import StandardScaler\n",
        "sklearn.utils.check_random_state(1000)\n",
        "Clus_dataSet = pdf[['xm','ym','Tx','Tm','Tn']]\n",
        "Clus_dataSet = np.nan_to_num(Clus_dataSet)\n",
        "Clus_dataSet = StandardScaler().fit_transform(Clus_dataSet)\n",
        "\n",
        "# Compute DBSCAN\n",
        "db = DBSCAN(eps=0.3, min_samples=10).fit(Clus_dataSet)\n",
        "core_samples_mask = np.zeros_like(db.labels_, dtype=bool)\n",
        "core_samples_mask[db.core_sample_indices_] = True\n",
        "labels = db.labels_\n",
        "pdf[\"Clus_Db\"]=labels\n",
        "\n",
        "realClusterNum=len(set(labels)) - (1 if -1 in labels else 0)\n",
        "clusterNum = len(set(labels)) \n",
        "\n",
        "\n",
        "# A sample of clusters\n",
        "pdf[[\"Stn_Name\",\"Tx\",\"Tm\",\"Clus_Db\"]].head(5)"
      ],
      "execution_count": null,
      "outputs": []
    },
    {
      "cell_type": "markdown",
      "metadata": {
        "id": "I-bwGiYT4JER"
      },
      "source": [
        "### 8- Visualization of clusters based on location and Temperture\n"
      ]
    },
    {
      "cell_type": "code",
      "metadata": {
        "id": "qjSGCE1r4JET"
      },
      "source": [
        "from mpl_toolkits.basemap import Basemap\n",
        "import matplotlib.pyplot as plt\n",
        "from pylab import rcParams\n",
        "%matplotlib inline\n",
        "rcParams['figure.figsize'] = (14,10)\n",
        "\n",
        "my_map = Basemap(projection='merc',\n",
        "            resolution = 'l', area_thresh = 1000.0,\n",
        "            llcrnrlon=llon, llcrnrlat=llat, #min longitude (llcrnrlon) and latitude (llcrnrlat)\n",
        "            urcrnrlon=ulon, urcrnrlat=ulat) #max longitude (urcrnrlon) and latitude (urcrnrlat)\n",
        "\n",
        "my_map.drawcoastlines()\n",
        "my_map.drawcountries()\n",
        "#my_map.drawmapboundary()\n",
        "my_map.fillcontinents(color = 'white', alpha = 0.3)\n",
        "my_map.shadedrelief()\n",
        "\n",
        "# To create a color map\n",
        "colors = plt.get_cmap('jet')(np.linspace(0.0, 1.0, clusterNum))\n",
        "\n",
        "\n",
        "\n",
        "#Visualization1\n",
        "for clust_number in set(labels):\n",
        "    c=(([0.4,0.4,0.4]) if clust_number == -1 else colors[np.int(clust_number)])\n",
        "    clust_set = pdf[pdf.Clus_Db == clust_number]                    \n",
        "    my_map.scatter(clust_set.xm, clust_set.ym, color =c,  marker='o', s= 20, alpha = 0.85)\n",
        "    if clust_number != -1:\n",
        "        cenx=np.mean(clust_set.xm) \n",
        "        ceny=np.mean(clust_set.ym) \n",
        "        plt.text(cenx,ceny,str(clust_number), fontsize=25, color='red',)\n",
        "        print (\"Cluster \"+str(clust_number)+', Avg Temp: '+ str(np.mean(clust_set.Tm)))"
      ],
      "execution_count": null,
      "outputs": []
    },
    {
      "cell_type": "markdown",
      "metadata": {
        "id": "MNN5o8CV4JEX"
      },
      "source": [
        "## Want to learn more?\n",
        "\n",
        "IBM SPSS Modeler is a comprehensive analytics platform that has many machine learning algorithms. It has been designed to bring predictive intelligence to decisions made by individuals, by groups, by systems – by your enterprise as a whole. A free trial is available through this course, available here: [SPSS Modeler](http://cocl.us/ML0101EN-SPSSModeler).\n",
        "\n",
        "Also, you can use Watson Studio to run these notebooks faster with bigger datasets. Watson Studio is IBM's leading cloud solution for data scientists, built by data scientists. With Jupyter notebooks, RStudio, Apache Spark and popular libraries pre-packaged in the cloud, Watson Studio enables data scientists to collaborate on their projects without having to install anything. Join the fast-growing community of Watson Studio users today with a free account at [Watson Studio](https://cocl.us/ML0101EN_DSX)\n",
        "\n",
        "### Thanks for completing this lesson!\n",
        "\n",
        "Notebook created by: <a href = \"https://ca.linkedin.com/in/saeedaghabozorgi\">Saeed Aghabozorgi</a>\n",
        "\n",
        "<hr>\n",
        "Copyright &copy; 2018 [Cognitive Class](https://cocl.us/DX0108EN_CC). This notebook and its source code are released under the terms of the [MIT License](https://bigdatauniversity.com/mit-license/).​"
      ]
    }
  ]
}